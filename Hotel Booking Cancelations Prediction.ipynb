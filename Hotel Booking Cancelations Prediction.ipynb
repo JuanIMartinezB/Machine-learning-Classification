{
 "cells": [
  {
   "cell_type": "markdown",
   "id": "a063569a",
   "metadata": {},
   "source": [
    "# **Hotel Booking Cancelations Prediction**"
   ]
  },
  {
   "cell_type": "markdown",
   "id": "d8342d2b",
   "metadata": {},
   "source": [
    "---------------------\n",
    "## **Context**\n",
    "---------------------\n",
    "\n",
    "It is important for hotels to build a model that predicts whether a reservation will be canceled because it allows them to optimize their operations and revenue. By identifying potential cancellations, hotels can take proactive measures such as overbooking or offering special deals to entice guests to keep their reservations. This helps to maximize occupancy rates and minimize revenue losses. Additionally, accurate predictions of cancellations can inform staffing decisions and help to reduce wastage in areas such as food and housekeeping. Overall, having a reliable cancellation prediction model can lead to improved efficiency and profitability for hotels.\n",
    "\n",
    "----------------------\n",
    "## **Objective**  \n",
    "----------------------\n",
    "\n",
    "* To identify the different factors that predict booking cancelation.\n",
    "* To build a model to predict if a booking will be canceled or not.\n",
    "\n",
    "------------------------------------\n",
    "## **Dataset Description**\n",
    "------------------------------------\n",
    "\n",
    "Hotel booking dataset with 19 variables. It comprehends three full years of customer behavioral data. In addition to personal and behavioral information, the dataset also contains demographic and geographical information. The data set was obtained (and modified) from: https://data.mendeley.com/datasets/j83f5fsh6c/1\n",
    "\n",
    "\n",
    "* **hotel:** One of \"Resort Hotel\" or \"City Hotel\"\n",
    "* **reservation_lead_time:** Number of days the reservation was placed in advance of the scheduled arrival\n",
    "* **Date:** Date of scheduled arrival as MM/DD/YYYY\n",
    "* **arrival_date_month:** Month of arrival date\n",
    "* **Day_of_week:** Day of week of arrival date (1) for sunday, (2) for monday...\n",
    "* **stays_in_days:** Total number of booked nights\n",
    "* **stays_in_weekend_nights:** Number of booked nights that are weekend nights\n",
    "* **stays_in_week_nights:** Number of booked nights that are weekday nights*\n",
    "* **adults:** Number of adults included in the booking*\n",
    "* **children:** Number of children and babies included in the booking*\n",
    "* **Nationality:** Nationality of guest (DEU = Germany, ESP = Spain, FRA = France, ITA = Italy, PRT = Portugal, USA = US, Other)*\n",
    "* **booking_origin:** Indicates channel through which the booking was made\n",
    "* **is_repeated_guest:** Indicator variable for whether the guest has booked at the hotel previously (1=previously)\n",
    "* **previous_cancellations:** Count of previous cancelations by the guest\n",
    "* **previous_bookings_not_canceled:** Count of previous bookings not canceled by the guest\n",
    "* **reserved_room_type:** Count of previous bookings not canceled by the guest\n",
    "* **adr:** Average daily rate of the booking (in Euros)\n",
    "* **is_canceled:** Indicator variable for whether the booking was canceled (1=canceled)\n",
    "* **cancel_lead_time:** For canceled bookings, days in advance the booking was canceled. Takes value zero (0) for uncanceled bookings.\n"
   ]
  },
  {
   "cell_type": "markdown",
   "id": "1a572e6e",
   "metadata": {},
   "source": [
    "## **Importing the required libraries and overview of the dataset**"
   ]
  },
  {
   "cell_type": "code",
   "execution_count": 1,
   "id": "8eacdfbd",
   "metadata": {},
   "outputs": [],
   "source": [
    "import pandas as pd\n",
    "\n",
    "import numpy as np\n",
    "\n",
    "import matplotlib.pyplot as plt\n",
    "\n",
    "import seaborn as sns\n",
    "\n",
    "# To scale the data using z-score \n",
    "from sklearn.preprocessing import StandardScaler\n",
    "\n",
    "from sklearn.model_selection import train_test_split\n",
    "\n",
    "# Algorithms to use\n",
    "from sklearn.discriminant_analysis import LinearDiscriminantAnalysis\n",
    "\n",
    "from sklearn.discriminant_analysis import QuadraticDiscriminantAnalysis\n",
    "\n",
    "from sklearn.linear_model import LogisticRegression\n",
    "\n",
    "from sklearn.neighbors import KNeighborsClassifier\n",
    "\n",
    "# Metrics to evaluate the model\n",
    "from sklearn.metrics import confusion_matrix, classification_report, precision_recall_curve\n",
    "\n",
    "# For tuning the model\n",
    "from sklearn.model_selection import GridSearchCV\n",
    "\n",
    "# To ignore warnings\n",
    "import warnings\n",
    "warnings.filterwarnings(\"ignore\")"
   ]
  },
  {
   "cell_type": "markdown",
   "id": "3fe91a30",
   "metadata": {},
   "source": [
    "### **Loading the dataset**"
   ]
  },
  {
   "cell_type": "code",
   "execution_count": 2,
   "id": "cdfe9160",
   "metadata": {},
   "outputs": [],
   "source": [
    "# Reading the dataset\n",
    "df = pd.read_excel('Bookings-sample.xlsx')"
   ]
  },
  {
   "cell_type": "code",
   "execution_count": 3,
   "id": "71dd0df3",
   "metadata": {},
   "outputs": [
    {
     "data": {
      "text/html": [
       "<div>\n",
       "<style scoped>\n",
       "    .dataframe tbody tr th:only-of-type {\n",
       "        vertical-align: middle;\n",
       "    }\n",
       "\n",
       "    .dataframe tbody tr th {\n",
       "        vertical-align: top;\n",
       "    }\n",
       "\n",
       "    .dataframe thead th {\n",
       "        text-align: right;\n",
       "    }\n",
       "</style>\n",
       "<table border=\"1\" class=\"dataframe\">\n",
       "  <thead>\n",
       "    <tr style=\"text-align: right;\">\n",
       "      <th></th>\n",
       "      <th>hotel</th>\n",
       "      <th>reservation_lead_time</th>\n",
       "      <th>Date</th>\n",
       "      <th>arrival_date_month</th>\n",
       "      <th>Day_of_week</th>\n",
       "      <th>stays_in_days</th>\n",
       "      <th>stays_in_weekend_nights</th>\n",
       "      <th>stays_in_week_nights</th>\n",
       "      <th>adults</th>\n",
       "      <th>children</th>\n",
       "      <th>Nationality</th>\n",
       "      <th>booking_origin</th>\n",
       "      <th>is_repeated_guest</th>\n",
       "      <th>previous_cancellations</th>\n",
       "      <th>previous_bookings_not_canceled</th>\n",
       "      <th>reserved_room_type</th>\n",
       "      <th>adr</th>\n",
       "      <th>is_canceled</th>\n",
       "      <th>cancel_lead_time</th>\n",
       "    </tr>\n",
       "  </thead>\n",
       "  <tbody>\n",
       "    <tr>\n",
       "      <th>0</th>\n",
       "      <td>Resort Hotel</td>\n",
       "      <td>737</td>\n",
       "      <td>2015-07-01</td>\n",
       "      <td>July</td>\n",
       "      <td>4</td>\n",
       "      <td>0</td>\n",
       "      <td>0</td>\n",
       "      <td>0</td>\n",
       "      <td>2</td>\n",
       "      <td>0</td>\n",
       "      <td>PRT</td>\n",
       "      <td>Direct</td>\n",
       "      <td>0</td>\n",
       "      <td>0</td>\n",
       "      <td>0</td>\n",
       "      <td>C</td>\n",
       "      <td>0.0</td>\n",
       "      <td>0</td>\n",
       "      <td>0</td>\n",
       "    </tr>\n",
       "    <tr>\n",
       "      <th>1</th>\n",
       "      <td>Resort Hotel</td>\n",
       "      <td>13</td>\n",
       "      <td>2015-07-01</td>\n",
       "      <td>July</td>\n",
       "      <td>4</td>\n",
       "      <td>1</td>\n",
       "      <td>0</td>\n",
       "      <td>1</td>\n",
       "      <td>1</td>\n",
       "      <td>0</td>\n",
       "      <td>GBR</td>\n",
       "      <td>Corporate</td>\n",
       "      <td>0</td>\n",
       "      <td>0</td>\n",
       "      <td>0</td>\n",
       "      <td>A</td>\n",
       "      <td>75.0</td>\n",
       "      <td>0</td>\n",
       "      <td>0</td>\n",
       "    </tr>\n",
       "    <tr>\n",
       "      <th>2</th>\n",
       "      <td>Resort Hotel</td>\n",
       "      <td>14</td>\n",
       "      <td>2015-07-01</td>\n",
       "      <td>July</td>\n",
       "      <td>4</td>\n",
       "      <td>2</td>\n",
       "      <td>0</td>\n",
       "      <td>2</td>\n",
       "      <td>2</td>\n",
       "      <td>0</td>\n",
       "      <td>GBR</td>\n",
       "      <td>Online TA</td>\n",
       "      <td>0</td>\n",
       "      <td>0</td>\n",
       "      <td>0</td>\n",
       "      <td>A</td>\n",
       "      <td>98.0</td>\n",
       "      <td>0</td>\n",
       "      <td>0</td>\n",
       "    </tr>\n",
       "    <tr>\n",
       "      <th>3</th>\n",
       "      <td>Resort Hotel</td>\n",
       "      <td>75</td>\n",
       "      <td>2015-07-01</td>\n",
       "      <td>July</td>\n",
       "      <td>4</td>\n",
       "      <td>3</td>\n",
       "      <td>0</td>\n",
       "      <td>3</td>\n",
       "      <td>2</td>\n",
       "      <td>0</td>\n",
       "      <td>PRT</td>\n",
       "      <td>Offline TA/TO</td>\n",
       "      <td>0</td>\n",
       "      <td>0</td>\n",
       "      <td>0</td>\n",
       "      <td>D</td>\n",
       "      <td>105.5</td>\n",
       "      <td>1</td>\n",
       "      <td>70</td>\n",
       "    </tr>\n",
       "    <tr>\n",
       "      <th>4</th>\n",
       "      <td>Resort Hotel</td>\n",
       "      <td>23</td>\n",
       "      <td>2015-07-01</td>\n",
       "      <td>July</td>\n",
       "      <td>4</td>\n",
       "      <td>4</td>\n",
       "      <td>0</td>\n",
       "      <td>4</td>\n",
       "      <td>2</td>\n",
       "      <td>0</td>\n",
       "      <td>PRT</td>\n",
       "      <td>Online TA</td>\n",
       "      <td>0</td>\n",
       "      <td>0</td>\n",
       "      <td>0</td>\n",
       "      <td>E</td>\n",
       "      <td>123.0</td>\n",
       "      <td>1</td>\n",
       "      <td>8</td>\n",
       "    </tr>\n",
       "  </tbody>\n",
       "</table>\n",
       "</div>"
      ],
      "text/plain": [
       "          hotel  reservation_lead_time       Date arrival_date_month  \\\n",
       "0  Resort Hotel                    737 2015-07-01               July   \n",
       "1  Resort Hotel                     13 2015-07-01               July   \n",
       "2  Resort Hotel                     14 2015-07-01               July   \n",
       "3  Resort Hotel                     75 2015-07-01               July   \n",
       "4  Resort Hotel                     23 2015-07-01               July   \n",
       "\n",
       "   Day_of_week  stays_in_days  stays_in_weekend_nights  stays_in_week_nights  \\\n",
       "0            4              0                        0                     0   \n",
       "1            4              1                        0                     1   \n",
       "2            4              2                        0                     2   \n",
       "3            4              3                        0                     3   \n",
       "4            4              4                        0                     4   \n",
       "\n",
       "   adults  children Nationality booking_origin  is_repeated_guest  \\\n",
       "0       2         0         PRT         Direct                  0   \n",
       "1       1         0         GBR      Corporate                  0   \n",
       "2       2         0         GBR      Online TA                  0   \n",
       "3       2         0         PRT  Offline TA/TO                  0   \n",
       "4       2         0         PRT      Online TA                  0   \n",
       "\n",
       "   previous_cancellations  previous_bookings_not_canceled reserved_room_type  \\\n",
       "0                       0                               0                  C   \n",
       "1                       0                               0                  A   \n",
       "2                       0                               0                  A   \n",
       "3                       0                               0                  D   \n",
       "4                       0                               0                  E   \n",
       "\n",
       "     adr  is_canceled  cancel_lead_time  \n",
       "0    0.0            0                 0  \n",
       "1   75.0            0                 0  \n",
       "2   98.0            0                 0  \n",
       "3  105.5            1                70  \n",
       "4  123.0            1                 8  "
      ]
     },
     "execution_count": 3,
     "metadata": {},
     "output_type": "execute_result"
    }
   ],
   "source": [
    "df.head()"
   ]
  },
  {
   "cell_type": "markdown",
   "id": "bbd569f7",
   "metadata": {},
   "source": [
    "### **Checking the info of the data**"
   ]
  },
  {
   "cell_type": "code",
   "execution_count": 4,
   "id": "7fc0397a",
   "metadata": {},
   "outputs": [
    {
     "name": "stdout",
     "output_type": "stream",
     "text": [
      "<class 'pandas.core.frame.DataFrame'>\n",
      "RangeIndex: 29846 entries, 0 to 29845\n",
      "Data columns (total 19 columns):\n",
      " #   Column                          Non-Null Count  Dtype         \n",
      "---  ------                          --------------  -----         \n",
      " 0   hotel                           29846 non-null  object        \n",
      " 1   reservation_lead_time           29846 non-null  int64         \n",
      " 2   Date                            29846 non-null  datetime64[ns]\n",
      " 3   arrival_date_month              29846 non-null  object        \n",
      " 4   Day_of_week                     29846 non-null  int64         \n",
      " 5   stays_in_days                   29846 non-null  int64         \n",
      " 6   stays_in_weekend_nights         29846 non-null  int64         \n",
      " 7   stays_in_week_nights            29846 non-null  int64         \n",
      " 8   adults                          29846 non-null  int64         \n",
      " 9   children                        29846 non-null  int64         \n",
      " 10  Nationality                     29846 non-null  object        \n",
      " 11  booking_origin                  29846 non-null  object        \n",
      " 12  is_repeated_guest               29846 non-null  int64         \n",
      " 13  previous_cancellations          29846 non-null  int64         \n",
      " 14  previous_bookings_not_canceled  29846 non-null  int64         \n",
      " 15  reserved_room_type              29846 non-null  object        \n",
      " 16  adr                             29846 non-null  float64       \n",
      " 17  is_canceled                     29846 non-null  int64         \n",
      " 18  cancel_lead_time                29846 non-null  int64         \n",
      "dtypes: datetime64[ns](1), float64(1), int64(12), object(5)\n",
      "memory usage: 4.3+ MB\n"
     ]
    }
   ],
   "source": [
    "df.info()"
   ]
  },
  {
   "cell_type": "markdown",
   "id": "87bf12f2",
   "metadata": {},
   "source": [
    "**Observations:**\n",
    "\n",
    "- There are **29846 observations and 19 columns** in the data.\n",
    "- All the column have 29846 non-null values, i.e., there are **no missing values** in the data."
   ]
  },
  {
   "cell_type": "markdown",
   "id": "a0e9a9ad",
   "metadata": {},
   "source": [
    "**Let's check the number of unique values in each column.** "
   ]
  },
  {
   "cell_type": "code",
   "execution_count": 5,
   "id": "2b45b438",
   "metadata": {},
   "outputs": [
    {
     "data": {
      "text/plain": [
       "hotel                                2\n",
       "reservation_lead_time              468\n",
       "Date                               793\n",
       "arrival_date_month                  12\n",
       "Day_of_week                          7\n",
       "stays_in_days                       36\n",
       "stays_in_weekend_nights             14\n",
       "stays_in_week_nights                29\n",
       "adults                               8\n",
       "children                             4\n",
       "Nationality                          8\n",
       "booking_origin                       7\n",
       "is_repeated_guest                    2\n",
       "previous_cancellations              14\n",
       "previous_bookings_not_canceled      40\n",
       "reserved_room_type                   8\n",
       "adr                               4219\n",
       "is_canceled                          2\n",
       "cancel_lead_time                   370\n",
       "dtype: int64"
      ]
     },
     "execution_count": 5,
     "metadata": {},
     "output_type": "execute_result"
    }
   ],
   "source": [
    "# Checking the number of unique values in each column\n",
    "df.nunique()"
   ]
  },
  {
   "cell_type": "markdown",
   "id": "24dfd298",
   "metadata": {},
   "source": [
    "**Observations:**\n",
    "\n",
    "- On the basis of number of unique values in each column and the data description, we can identify the continuous and categorical columns in the data.\n",
    "- As we have the month and the day of the week of the reservation, we dont need the Date\n",
    "\n"
   ]
  },
  {
   "cell_type": "code",
   "execution_count": 6,
   "id": "bcbaa911",
   "metadata": {},
   "outputs": [],
   "source": [
    "# Dropping the columns \n",
    "df = df.drop(['Date'], axis = 1)"
   ]
  },
  {
   "cell_type": "code",
   "execution_count": 7,
   "id": "44485bdb",
   "metadata": {},
   "outputs": [
    {
     "data": {
      "text/plain": [
       "Index(['hotel', 'reservation_lead_time', 'arrival_date_month', 'Day_of_week',\n",
       "       'stays_in_days', 'stays_in_weekend_nights', 'stays_in_week_nights',\n",
       "       'adults', 'children', 'Nationality', 'booking_origin',\n",
       "       'is_repeated_guest', 'previous_cancellations',\n",
       "       'previous_bookings_not_canceled', 'reserved_room_type', 'adr',\n",
       "       'is_canceled', 'cancel_lead_time'],\n",
       "      dtype='object')"
      ]
     },
     "execution_count": 7,
     "metadata": {},
     "output_type": "execute_result"
    }
   ],
   "source": [
    "df.keys()"
   ]
  },
  {
   "cell_type": "code",
   "execution_count": 8,
   "id": "20df48ee",
   "metadata": {},
   "outputs": [],
   "source": [
    "# Creating numerical columns\n",
    "num_cols = ['reservation_lead_time', 'stays_in_days', 'stays_in_weekend_nights',\n",
    "       'stays_in_week_nights', 'adults', 'children', 'previous_cancellations',\n",
    "       'previous_bookings_not_canceled', 'adr', 'cancel_lead_time']\n",
    "\n",
    "# Creating categorical variables \n",
    "cat_cols = ['hotel', 'arrival_date_month', 'Day_of_week',\n",
    "       'Nationality', 'booking_origin',\n",
    "       'is_repeated_guest', 'reserved_room_type',\n",
    "       'is_canceled']\n",
    "\n",
    "\n"
   ]
  },
  {
   "cell_type": "markdown",
   "id": "4252df20",
   "metadata": {},
   "source": [
    "## Exploratory Data Analysis"
   ]
  },
  {
   "cell_type": "markdown",
   "id": "02e64d87",
   "metadata": {},
   "source": [
    "### **Univariate analysis of numerical columns**"
   ]
  },
  {
   "cell_type": "code",
   "execution_count": 9,
   "id": "067ac0e1",
   "metadata": {},
   "outputs": [
    {
     "data": {
      "text/html": [
       "<div>\n",
       "<style scoped>\n",
       "    .dataframe tbody tr th:only-of-type {\n",
       "        vertical-align: middle;\n",
       "    }\n",
       "\n",
       "    .dataframe tbody tr th {\n",
       "        vertical-align: top;\n",
       "    }\n",
       "\n",
       "    .dataframe thead th {\n",
       "        text-align: right;\n",
       "    }\n",
       "</style>\n",
       "<table border=\"1\" class=\"dataframe\">\n",
       "  <thead>\n",
       "    <tr style=\"text-align: right;\">\n",
       "      <th></th>\n",
       "      <th>count</th>\n",
       "      <th>mean</th>\n",
       "      <th>std</th>\n",
       "      <th>min</th>\n",
       "      <th>25%</th>\n",
       "      <th>50%</th>\n",
       "      <th>75%</th>\n",
       "      <th>max</th>\n",
       "    </tr>\n",
       "  </thead>\n",
       "  <tbody>\n",
       "    <tr>\n",
       "      <th>reservation_lead_time</th>\n",
       "      <td>29846.0</td>\n",
       "      <td>104.037794</td>\n",
       "      <td>106.892122</td>\n",
       "      <td>0.0</td>\n",
       "      <td>17.000</td>\n",
       "      <td>69.0</td>\n",
       "      <td>161.0</td>\n",
       "      <td>737.0</td>\n",
       "    </tr>\n",
       "    <tr>\n",
       "      <th>stays_in_days</th>\n",
       "      <td>29846.0</td>\n",
       "      <td>3.423909</td>\n",
       "      <td>2.569292</td>\n",
       "      <td>0.0</td>\n",
       "      <td>2.000</td>\n",
       "      <td>3.0</td>\n",
       "      <td>4.0</td>\n",
       "      <td>48.0</td>\n",
       "    </tr>\n",
       "    <tr>\n",
       "      <th>stays_in_weekend_nights</th>\n",
       "      <td>29846.0</td>\n",
       "      <td>0.925920</td>\n",
       "      <td>0.999802</td>\n",
       "      <td>0.0</td>\n",
       "      <td>0.000</td>\n",
       "      <td>1.0</td>\n",
       "      <td>2.0</td>\n",
       "      <td>14.0</td>\n",
       "    </tr>\n",
       "    <tr>\n",
       "      <th>stays_in_week_nights</th>\n",
       "      <td>29846.0</td>\n",
       "      <td>2.497990</td>\n",
       "      <td>1.917247</td>\n",
       "      <td>0.0</td>\n",
       "      <td>1.000</td>\n",
       "      <td>2.0</td>\n",
       "      <td>3.0</td>\n",
       "      <td>34.0</td>\n",
       "    </tr>\n",
       "    <tr>\n",
       "      <th>adults</th>\n",
       "      <td>29846.0</td>\n",
       "      <td>1.851538</td>\n",
       "      <td>0.512506</td>\n",
       "      <td>0.0</td>\n",
       "      <td>2.000</td>\n",
       "      <td>2.0</td>\n",
       "      <td>2.0</td>\n",
       "      <td>26.0</td>\n",
       "    </tr>\n",
       "    <tr>\n",
       "      <th>children</th>\n",
       "      <td>29846.0</td>\n",
       "      <td>0.100885</td>\n",
       "      <td>0.392134</td>\n",
       "      <td>0.0</td>\n",
       "      <td>0.000</td>\n",
       "      <td>0.0</td>\n",
       "      <td>0.0</td>\n",
       "      <td>3.0</td>\n",
       "    </tr>\n",
       "    <tr>\n",
       "      <th>previous_cancellations</th>\n",
       "      <td>29846.0</td>\n",
       "      <td>0.086678</td>\n",
       "      <td>0.843744</td>\n",
       "      <td>0.0</td>\n",
       "      <td>0.000</td>\n",
       "      <td>0.0</td>\n",
       "      <td>0.0</td>\n",
       "      <td>26.0</td>\n",
       "    </tr>\n",
       "    <tr>\n",
       "      <th>previous_bookings_not_canceled</th>\n",
       "      <td>29846.0</td>\n",
       "      <td>0.141292</td>\n",
       "      <td>1.558736</td>\n",
       "      <td>0.0</td>\n",
       "      <td>0.000</td>\n",
       "      <td>0.0</td>\n",
       "      <td>0.0</td>\n",
       "      <td>71.0</td>\n",
       "    </tr>\n",
       "    <tr>\n",
       "      <th>adr</th>\n",
       "      <td>29846.0</td>\n",
       "      <td>101.614885</td>\n",
       "      <td>48.075604</td>\n",
       "      <td>0.0</td>\n",
       "      <td>69.065</td>\n",
       "      <td>94.5</td>\n",
       "      <td>126.0</td>\n",
       "      <td>510.0</td>\n",
       "    </tr>\n",
       "    <tr>\n",
       "      <th>cancel_lead_time</th>\n",
       "      <td>29846.0</td>\n",
       "      <td>31.410440</td>\n",
       "      <td>68.955142</td>\n",
       "      <td>0.0</td>\n",
       "      <td>0.000</td>\n",
       "      <td>0.0</td>\n",
       "      <td>25.0</td>\n",
       "      <td>526.0</td>\n",
       "    </tr>\n",
       "  </tbody>\n",
       "</table>\n",
       "</div>"
      ],
      "text/plain": [
       "                                  count        mean         std  min     25%  \\\n",
       "reservation_lead_time           29846.0  104.037794  106.892122  0.0  17.000   \n",
       "stays_in_days                   29846.0    3.423909    2.569292  0.0   2.000   \n",
       "stays_in_weekend_nights         29846.0    0.925920    0.999802  0.0   0.000   \n",
       "stays_in_week_nights            29846.0    2.497990    1.917247  0.0   1.000   \n",
       "adults                          29846.0    1.851538    0.512506  0.0   2.000   \n",
       "children                        29846.0    0.100885    0.392134  0.0   0.000   \n",
       "previous_cancellations          29846.0    0.086678    0.843744  0.0   0.000   \n",
       "previous_bookings_not_canceled  29846.0    0.141292    1.558736  0.0   0.000   \n",
       "adr                             29846.0  101.614885   48.075604  0.0  69.065   \n",
       "cancel_lead_time                29846.0   31.410440   68.955142  0.0   0.000   \n",
       "\n",
       "                                 50%    75%    max  \n",
       "reservation_lead_time           69.0  161.0  737.0  \n",
       "stays_in_days                    3.0    4.0   48.0  \n",
       "stays_in_weekend_nights          1.0    2.0   14.0  \n",
       "stays_in_week_nights             2.0    3.0   34.0  \n",
       "adults                           2.0    2.0   26.0  \n",
       "children                         0.0    0.0    3.0  \n",
       "previous_cancellations           0.0    0.0   26.0  \n",
       "previous_bookings_not_canceled   0.0    0.0   71.0  \n",
       "adr                             94.5  126.0  510.0  \n",
       "cancel_lead_time                 0.0   25.0  526.0  "
      ]
     },
     "execution_count": 9,
     "metadata": {},
     "output_type": "execute_result"
    }
   ],
   "source": [
    "# Checking summary statistics\n",
    "df[num_cols].describe().T"
   ]
  },
  {
   "cell_type": "markdown",
   "id": "71482964",
   "metadata": {},
   "source": [
    "**Observations:**\n",
    "\n",
    "- **Average cancel lead time is 32 days**. \n",
    "- **On average, te reservation lead time is 3.4 months**."
   ]
  },
  {
   "cell_type": "markdown",
   "id": "cf3acf7e",
   "metadata": {},
   "source": [
    "Let's explore these variables in some more depth by observing their distributions."
   ]
  },
  {
   "cell_type": "code",
   "execution_count": 10,
   "id": "979923c3",
   "metadata": {},
   "outputs": [
    {
     "data": {
      "image/png": "[encoded data removed]",
      "text/plain": [
       "<Figure size 1008x1008 with 12 Axes>"
      ]
     },
     "metadata": {
      "needs_background": "light"
     },
     "output_type": "display_data"
    }
   ],
   "source": [
    "# Creating histograms\n",
    "df[num_cols].hist(figsize = (14, 14))\n",
    "\n",
    "plt.show()"
   ]
  },
  {
   "cell_type": "markdown",
   "id": "6ab40750",
   "metadata": {},
   "source": [
    "### **Univariate analysis for categorical variables**"
   ]
  },
  {
   "cell_type": "code",
   "execution_count": 11,
   "id": "13d9d5ab",
   "metadata": {},
   "outputs": [
    {
     "name": "stdout",
     "output_type": "stream",
     "text": [
      "City Hotel      0.665985\n",
      "Resort Hotel    0.334015\n",
      "Name: hotel, dtype: float64\n",
      "****************************************\n",
      "August       0.117101\n",
      "July         0.103800\n",
      "May          0.099745\n",
      "October      0.094083\n",
      "June         0.093446\n",
      "April        0.089694\n",
      "September    0.088153\n",
      "March        0.082993\n",
      "February     0.067547\n",
      "December     0.059103\n",
      "November     0.055150\n",
      "January      0.049186\n",
      "Name: arrival_date_month, dtype: float64\n",
      "****************************************\n",
      "5    0.165315\n",
      "6    0.164310\n",
      "2    0.152416\n",
      "7    0.146653\n",
      "4    0.137070\n",
      "1    0.118810\n",
      "3    0.115426\n",
      "Name: Day_of_week, dtype: float64\n",
      "****************************************\n",
      "PRT      0.406118\n",
      "Other    0.220867\n",
      "GBR      0.100784\n",
      "FRA      0.087449\n",
      "ESP      0.072908\n",
      "DEU      0.060511\n",
      "ITA      0.032601\n",
      "USA      0.018763\n",
      "Name: Nationality, dtype: float64\n",
      "****************************************\n",
      "Online TA        0.469577\n",
      "Offline TA/TO    0.204282\n",
      "Groups           0.167326\n",
      "Direct           0.105676\n",
      "Corporate        0.044629\n",
      "Complementary    0.006433\n",
      "Aviation         0.002077\n",
      "Name: booking_origin, dtype: float64\n",
      "****************************************\n",
      "0    0.967667\n",
      "1    0.032333\n",
      "Name: is_repeated_guest, dtype: float64\n",
      "****************************************\n",
      "A    0.717651\n",
      "D    0.161194\n",
      "E    0.055585\n",
      "F    0.024794\n",
      "G    0.017758\n",
      "B    0.010052\n",
      "C    0.007606\n",
      "H    0.005361\n",
      "Name: reserved_room_type, dtype: float64\n",
      "****************************************\n",
      "0    0.632547\n",
      "1    0.367453\n",
      "Name: is_canceled, dtype: float64\n",
      "****************************************\n"
     ]
    }
   ],
   "source": [
    "for i in cat_cols:\n",
    "    print(df[i].value_counts(normalize = True))\n",
    "    \n",
    "    print('*' * 40)"
   ]
  },
  {
   "cell_type": "markdown",
   "id": "42c3cb11",
   "metadata": {},
   "source": [
    "**Observations:**\n",
    "\n",
    "\n",
    "- **40% of the people who book are from Portugal**.\n",
    "- **46% of the reservations are made through Online TA**. \n",
    "- **Type A room is the most booked**.\n",
    "- **The booking cancelation rate is 36%.**"
   ]
  },
  {
   "cell_type": "markdown",
   "id": "80a99231",
   "metadata": {},
   "source": [
    "### **Bivariate and Multivariate analysis**"
   ]
  },
  {
   "cell_type": "markdown",
   "id": "f2f7fd64",
   "metadata": {},
   "source": [
    "**Let's check how does booking canelation is related with other categorical variables**"
   ]
  },
  {
   "cell_type": "code",
   "execution_count": 12,
   "id": "f5389d93",
   "metadata": {
    "scrolled": false
   },
   "outputs": [
    {
     "data": {
      "image/png": "[encoded data removed]",
      "text/plain": [
       "<Figure size 576x288 with 1 Axes>"
      ]
     },
     "metadata": {
      "needs_background": "light"
     },
     "output_type": "display_data"
    },
    {
     "data": {
      "image/png": "[encoded data removed]",
      "text/plain": [
       "<Figure size 576x288 with 1 Axes>"
      ]
     },
     "metadata": {
      "needs_background": "light"
     },
     "output_type": "display_data"
    },
    {
     "data": {
      "image/png": "[encoded data removed]",
      "text/plain": [
       "<Figure size 576x288 with 1 Axes>"
      ]
     },
     "metadata": {
      "needs_background": "light"
     },
     "output_type": "display_data"
    },
    {
     "data": {
      "image/png": "[encoded data removed]",
      "text/plain": [
       "<Figure size 576x288 with 1 Axes>"
      ]
     },
     "metadata": {
      "needs_background": "light"
     },
     "output_type": "display_data"
    },
    {
     "data": {
      "image/png": "[encoded data removed]",
      "text/plain": [
       "<Figure size 576x288 with 1 Axes>"
      ]
     },
     "metadata": {
      "needs_background": "light"
     },
     "output_type": "display_data"
    },
    {
     "data": {
      "image/png": "[encoded data removed]",
      "text/plain": [
       "<Figure size 576x288 with 1 Axes>"
      ]
     },
     "metadata": {
      "needs_background": "light"
     },
     "output_type": "display_data"
    },
    {
     "data": {
      "image/png": "[encoded data removed]",
      "text/plain": [
       "<Figure size 576x288 with 1 Axes>"
      ]
     },
     "metadata": {
      "needs_background": "light"
     },
     "output_type": "display_data"
    }
   ],
   "source": [
    "for i in cat_cols:\n",
    "    if i != 'is_canceled':\n",
    "        (pd.crosstab(df[i], df['is_canceled'], normalize = 'index')*100).plot(kind = 'bar', figsize = (8, 4), stacked = True)\n",
    "        plt.ylabel('Percentage Cancelation %')"
   ]
  },
  {
   "cell_type": "markdown",
   "id": "56a9ea26",
   "metadata": {},
   "source": [
    "**Observations:**\n",
    "    \n",
    "- Reservations made for Portuguese people are more propensity to be canceled.\n",
    "- Reservations made through the 'Groups' booking origin are more propensity to be canceled.\n",
    "- New clients are more likely to cancel a booking."
   ]
  },
  {
   "cell_type": "markdown",
   "id": "98b85408",
   "metadata": {},
   "source": [
    "**Let's check the relationship between booking cancelations and Numerical variables**"
   ]
  },
  {
   "cell_type": "code",
   "execution_count": 13,
   "id": "159b9859",
   "metadata": {},
   "outputs": [
    {
     "data": {
      "text/html": [
       "<div>\n",
       "<style scoped>\n",
       "    .dataframe tbody tr th:only-of-type {\n",
       "        vertical-align: middle;\n",
       "    }\n",
       "\n",
       "    .dataframe tbody tr th {\n",
       "        vertical-align: top;\n",
       "    }\n",
       "\n",
       "    .dataframe thead th {\n",
       "        text-align: right;\n",
       "    }\n",
       "</style>\n",
       "<table border=\"1\" class=\"dataframe\">\n",
       "  <thead>\n",
       "    <tr style=\"text-align: right;\">\n",
       "      <th></th>\n",
       "      <th>reservation_lead_time</th>\n",
       "      <th>stays_in_days</th>\n",
       "      <th>stays_in_weekend_nights</th>\n",
       "      <th>stays_in_week_nights</th>\n",
       "      <th>adults</th>\n",
       "      <th>children</th>\n",
       "      <th>previous_cancellations</th>\n",
       "      <th>previous_bookings_not_canceled</th>\n",
       "      <th>adr</th>\n",
       "      <th>cancel_lead_time</th>\n",
       "    </tr>\n",
       "    <tr>\n",
       "      <th>is_canceled</th>\n",
       "      <th></th>\n",
       "      <th></th>\n",
       "      <th></th>\n",
       "      <th></th>\n",
       "      <th></th>\n",
       "      <th></th>\n",
       "      <th></th>\n",
       "      <th></th>\n",
       "      <th></th>\n",
       "      <th></th>\n",
       "    </tr>\n",
       "  </thead>\n",
       "  <tbody>\n",
       "    <tr>\n",
       "      <th>0</th>\n",
       "      <td>80.697495</td>\n",
       "      <td>3.384025</td>\n",
       "      <td>0.924625</td>\n",
       "      <td>2.459399</td>\n",
       "      <td>1.82801</td>\n",
       "      <td>0.099793</td>\n",
       "      <td>0.017745</td>\n",
       "      <td>0.207956</td>\n",
       "      <td>99.676874</td>\n",
       "      <td>0.000000</td>\n",
       "    </tr>\n",
       "    <tr>\n",
       "      <th>1</th>\n",
       "      <td>144.216650</td>\n",
       "      <td>3.492569</td>\n",
       "      <td>0.928148</td>\n",
       "      <td>2.564421</td>\n",
       "      <td>1.89204</td>\n",
       "      <td>0.102763</td>\n",
       "      <td>0.205343</td>\n",
       "      <td>0.026534</td>\n",
       "      <td>104.951049</td>\n",
       "      <td>85.481536</td>\n",
       "    </tr>\n",
       "  </tbody>\n",
       "</table>\n",
       "</div>"
      ],
      "text/plain": [
       "             reservation_lead_time  stays_in_days  stays_in_weekend_nights  \\\n",
       "is_canceled                                                                  \n",
       "0                        80.697495       3.384025                 0.924625   \n",
       "1                       144.216650       3.492569                 0.928148   \n",
       "\n",
       "             stays_in_week_nights   adults  children  previous_cancellations  \\\n",
       "is_canceled                                                                    \n",
       "0                        2.459399  1.82801  0.099793                0.017745   \n",
       "1                        2.564421  1.89204  0.102763                0.205343   \n",
       "\n",
       "             previous_bookings_not_canceled         adr  cancel_lead_time  \n",
       "is_canceled                                                                \n",
       "0                                  0.207956   99.676874          0.000000  \n",
       "1                                  0.026534  104.951049         85.481536  "
      ]
     },
     "execution_count": 13,
     "metadata": {},
     "output_type": "execute_result"
    }
   ],
   "source": [
    "# The mean of numerical variables grouped by is_canceled\n",
    "df.groupby(['is_canceled'])[num_cols].mean()"
   ]
  },
  {
   "cell_type": "markdown",
   "id": "fd1f352b",
   "metadata": {},
   "source": [
    "**Observations:**\n",
    "\n",
    "- **90% of the cancellations are made by customers who have already canceled in the past**."
   ]
  },
  {
   "cell_type": "markdown",
   "id": "7332c716",
   "metadata": {},
   "source": [
    "### **Let's check the relationship between different numerical variables**"
   ]
  },
  {
   "cell_type": "code",
   "execution_count": 14,
   "id": "f90a41fa",
   "metadata": {},
   "outputs": [
    {
     "data": {
      "text/plain": [
       "<AxesSubplot:>"
      ]
     },
     "execution_count": 14,
     "metadata": {},
     "output_type": "execute_result"
    },
    {
     "data": {
      "image/png": "[encoded data removed]",
      "text/plain": [
       "<Figure size 1080x576 with 2 Axes>"
      ]
     },
     "metadata": {
      "needs_background": "light"
     },
     "output_type": "display_data"
    }
   ],
   "source": [
    "# Plotting the correlation between numerical variables\n",
    "plt.figure(figsize = (15, 8))\n",
    "\n",
    "sns.heatmap(df[num_cols].corr(), annot = True, fmt = '0.2f', cmap = 'YlGnBu')"
   ]
  },
  {
   "cell_type": "markdown",
   "id": "487266b0",
   "metadata": {},
   "source": [
    "**Observations:**\n",
    "\n",
    "- Reservations made a long time in advance are more likely to be cancelled.\n",
    "- Clients that have canceled in the past are more likely to calcel."
   ]
  },
  {
   "cell_type": "markdown",
   "id": "e3b601ed",
   "metadata": {},
   "source": [
    "### <a id='link1'>Summary of EDA</a>\n",
    "\n",
    "**Data Description:**\n",
    "\n",
    "* There are **29846 observations and 19 columns** in the data.\n",
    "* All the columns have 29846 non-null values, **there are no missing values**.\n",
    "* As we have the day of the week and the month of the year in the data, we can **drop the Data column** as it would not add any value to our analysis.\n",
    "* On the basis of the number of unique values in each column and the data description, we can **identify the continuous and categorical columns** in the data.\n",
    "\n",
    "\n",
    "**Observations from EDA:**\n",
    "\n",
    "- **90% of the cancellations are made by customers who have already canceled in the past**.\n",
    "- Reservations made a long time in advance are more likely to be cancelled.\n",
    "- Reservations made for Portuguese people are more propensity to be canceled.\n",
    "- Reservations made through the 'Groups' booking origin are more propensity to be canceled.\n",
    "- New clients are more likely to cancel a booking.\n",
    "- **40% of the people who book are from Portugal**.\n",
    "- **46% of the reservations are made through Online TA**. \n",
    "- Type A room is the most booked.\n",
    "- **The booking cancelation rate is 36%.**\n",
    "- **Average cancel lead time is 32 days**. \n",
    "- **On average, te reservation lead time is 3.4 months**.\n"
   ]
  },
  {
   "cell_type": "markdown",
   "id": "8918122d",
   "metadata": {},
   "source": [
    "**We have explored our data, let's build the model**"
   ]
  },
  {
   "cell_type": "markdown",
   "id": "3dffbab6",
   "metadata": {},
   "source": [
    "## **Model Building - Approach**\n",
    "\n",
    "1. Prepare the data for modeling.\n",
    "2. Partition the data into train and test sets.\n",
    "3. Build the model on the train data.\n",
    "4. Tune the model if required.\n",
    "5. Test the data on the test set."
   ]
  },
  {
   "cell_type": "markdown",
   "id": "a52104f6",
   "metadata": {},
   "source": [
    "###  **Preparing data for modeling**"
   ]
  },
  {
   "cell_type": "markdown",
   "id": "811f6782",
   "metadata": {},
   "source": [
    "**Creating dummy variables for categorical Variables**"
   ]
  },
  {
   "cell_type": "code",
   "execution_count": 15,
   "id": "cbd08fd8",
   "metadata": {},
   "outputs": [
    {
     "data": {
      "text/plain": [
       "Index(['hotel', 'reservation_lead_time', 'arrival_date_month', 'Day_of_week',\n",
       "       'stays_in_days', 'stays_in_weekend_nights', 'stays_in_week_nights',\n",
       "       'adults', 'children', 'Nationality', 'booking_origin',\n",
       "       'is_repeated_guest', 'previous_cancellations',\n",
       "       'previous_bookings_not_canceled', 'reserved_room_type', 'adr',\n",
       "       'is_canceled', 'cancel_lead_time'],\n",
       "      dtype='object')"
      ]
     },
     "execution_count": 15,
     "metadata": {},
     "output_type": "execute_result"
    }
   ],
   "source": [
    "df.keys()"
   ]
  },
  {
   "cell_type": "code",
   "execution_count": 16,
   "id": "058b2778",
   "metadata": {},
   "outputs": [],
   "source": [
    "# Creating the list of columns for which we need to create the dummy variables\n",
    "\n",
    "to_get_dummies_for = ['hotel', 'arrival_date_month', 'Day_of_week',\n",
    "       'Nationality', 'booking_origin',\n",
    "       'is_repeated_guest', 'reserved_room_type']\n",
    "\n",
    "# Creating dummy variables\n",
    "df = pd.get_dummies(data = df, columns = to_get_dummies_for, drop_first = True)      \n"
   ]
  },
  {
   "cell_type": "markdown",
   "id": "0d20ca88",
   "metadata": {},
   "source": [
    "**Separating the independent variables (X) and the dependent variable (Y)**"
   ]
  },
  {
   "cell_type": "code",
   "execution_count": 17,
   "id": "b9a3a99a",
   "metadata": {},
   "outputs": [],
   "source": [
    "# Separating the target variable and other variables\n",
    "Y = df.is_canceled\n",
    "X = df.drop(columns = ['is_canceled'])"
   ]
  },
  {
   "cell_type": "markdown",
   "id": "89a1738f",
   "metadata": {},
   "source": [
    "### **Scaling the data**\n",
    "\n",
    "The standard score of sample x is calculated as:\n",
    "\n",
    "**z = (x - u) / s**\n",
    "\n",
    "where **u** is the mean of the training samples (zero) and **s** is the standard deviation of the training samples."
   ]
  },
  {
   "cell_type": "code",
   "execution_count": 18,
   "id": "89997a4c",
   "metadata": {},
   "outputs": [],
   "source": [
    "# Scaling the data\n",
    "sc = StandardScaler()\n",
    "\n",
    "X_scaled = sc.fit_transform(X)\n",
    "\n",
    "X_scaled = pd.DataFrame(X_scaled, columns = X.columns)"
   ]
  },
  {
   "cell_type": "markdown",
   "id": "4cb5da89",
   "metadata": {},
   "source": [
    "### **Splitting the data into 70% train and 30% test sets**"
   ]
  },
  {
   "cell_type": "code",
   "execution_count": 19,
   "id": "37717897",
   "metadata": {},
   "outputs": [],
   "source": [
    "# Splitting the data\n",
    "x_train, x_test, y_train, y_test = train_test_split(X_scaled, Y, test_size = 0.3, random_state = 1, stratify = Y)"
   ]
  },
  {
   "cell_type": "markdown",
   "id": "35ddd1e3",
   "metadata": {},
   "source": [
    "### **Model evaluation criterion**\n",
    "\n",
    "**The model can make two types of wrong predictions:**\n",
    "\n",
    "1. Predicting a reservation will be canceled when the customer doesn't cancel\n",
    "2. Predicting a reservation will not be calceled when the customer actually cancel\n",
    "\n",
    "**Which case is more important?**\n",
    "\n",
    "* **Predicting a reservation will not be calceled when the customer actually cancel**\n",
    "\n",
    "**How to reduce this loss i.e the need to reduce False Negatives?**\n",
    "* **The hotel would want the Recall to be maximized**"
   ]
  },
  {
   "cell_type": "markdown",
   "id": "ded51cdc",
   "metadata": {},
   "source": [
    "Now, let's develop a function that computes and displays the classification report and confusion matrix, thereby eliminating the need to duplicate the code for every model."
   ]
  },
  {
   "cell_type": "code",
   "execution_count": 20,
   "id": "73d35c27",
   "metadata": {},
   "outputs": [],
   "source": [
    "def metrics_score(actual, predicted):\n",
    "\n",
    "    print(classification_report(actual, predicted))\n",
    "\n",
    "    cm = confusion_matrix(actual, predicted)\n",
    "\n",
    "    plt.figure(figsize = (8, 5))\n",
    "\n",
    "    sns.heatmap(cm, annot = True, fmt = '.2f', xticklabels = ['Not Canceled', 'Canceled'], yticklabels = ['Not Canceled', 'Canceled'])\n",
    "\n",
    "    plt.ylabel('Actual')\n",
    "\n",
    "    plt.xlabel('Predicted')\n",
    "    \n",
    "    plt.show()"
   ]
  },
  {
   "cell_type": "markdown",
   "id": "6beca2a3",
   "metadata": {},
   "source": [
    "### **Building the model**\n",
    "\n",
    "We will be building 2 different models:\n",
    "- **Logistic Regression**\n",
    "- **K-Nearest Neighbors (K-NN)**"
   ]
  },
  {
   "cell_type": "markdown",
   "id": "8bd165b3",
   "metadata": {},
   "source": [
    "### **Logistic Regression**"
   ]
  },
  {
   "cell_type": "markdown",
   "id": "5edc694e",
   "metadata": {},
   "source": [
    "- Logistic Regression is a supervised learning algorithm, generally used for **binary classification problems**. In logistic regression, we use the sigmoid function to calculate the probability of an event Y, given some features X as:\n",
    "\n",
    "                                          P(Y)=1/(1 + exp(-X))"
   ]
  },
  {
   "cell_type": "code",
   "execution_count": 21,
   "id": "b488fcf1",
   "metadata": {},
   "outputs": [
    {
     "data": {
      "text/plain": [
       "LogisticRegression()"
      ]
     },
     "execution_count": 21,
     "metadata": {},
     "output_type": "execute_result"
    }
   ],
   "source": [
    "# Fitting the logistic regression model\n",
    "lg = LogisticRegression()\n",
    "\n",
    "lg.fit(x_train,y_train)"
   ]
  },
  {
   "cell_type": "markdown",
   "id": "194e2241",
   "metadata": {},
   "source": [
    "**Checking the model performance**"
   ]
  },
  {
   "cell_type": "code",
   "execution_count": 22,
   "id": "ce41c142",
   "metadata": {},
   "outputs": [
    {
     "name": "stdout",
     "output_type": "stream",
     "text": [
      "              precision    recall  f1-score   support\n",
      "\n",
      "           0       0.94      1.00      0.97     13215\n",
      "           1       1.00      0.89      0.94      7677\n",
      "\n",
      "    accuracy                           0.96     20892\n",
      "   macro avg       0.97      0.95      0.96     20892\n",
      "weighted avg       0.96      0.96      0.96     20892\n",
      "\n"
     ]
    },
    {
     "data": {
      "image/png": "[encoded data removed]",
      "text/plain": [
       "<Figure size 576x360 with 2 Axes>"
      ]
     },
     "metadata": {
      "needs_background": "light"
     },
     "output_type": "display_data"
    }
   ],
   "source": [
    "# Checking the performance on the training data\n",
    "y_pred_train = lg.predict(x_train)\n",
    "\n",
    "metrics_score(y_train, y_pred_train)"
   ]
  },
  {
   "cell_type": "markdown",
   "id": "21ade83f",
   "metadata": {},
   "source": [
    "**Reading the confusion matrix (clockwise from top left):**\n",
    "\n",
    "* True Negative (Actual = 0, Predicted = 0): Model predicts that a reservation will not be cancelled and the reservation is not cancelled\n",
    "\n",
    "* False Positive (Actual = 0, Predicted = 1): Model predicts that a reservation will be cancelled but the reservation is not cancelled\n",
    "\n",
    "* True Positive (Actual = 1, Predicted = 1): Model predicts that a reservation will be cancelled and the reservation is cancelled\n",
    "\n",
    "* False Negative (Actual = 1, Predicted = 0): Model predicts that a reservation will not be cancelled but the reservation is cancelled"
   ]
  },
  {
   "cell_type": "code",
   "execution_count": 23,
   "id": "c15ffbb1",
   "metadata": {},
   "outputs": [
    {
     "name": "stdout",
     "output_type": "stream",
     "text": [
      "              precision    recall  f1-score   support\n",
      "\n",
      "           0       0.94      1.00      0.97      5664\n",
      "           1       1.00      0.89      0.94      3290\n",
      "\n",
      "    accuracy                           0.96      8954\n",
      "   macro avg       0.97      0.94      0.95      8954\n",
      "weighted avg       0.96      0.96      0.96      8954\n",
      "\n"
     ]
    },
    {
     "data": {
      "image/png": "[encoded data removed]",
      "text/plain": [
       "<Figure size 576x360 with 2 Axes>"
      ]
     },
     "metadata": {
      "needs_background": "light"
     },
     "output_type": "display_data"
    }
   ],
   "source": [
    "# Checking the performance on the test dataset\n",
    "y_pred_test = lg.predict(x_test)\n",
    "metrics_score(y_test, y_pred_test)"
   ]
  },
  {
   "cell_type": "markdown",
   "id": "29ae62c7",
   "metadata": {},
   "source": [
    "**Observations:**\n",
    "\n",
    "- **We are getting an accuracy of about 96%** on the train and the test datasets."
   ]
  },
  {
   "cell_type": "markdown",
   "id": "8bbdf111",
   "metadata": {},
   "source": [
    "**Let's check the coefficients and find which variables are leading to cancelations and which can help to reduce the cancelations.**"
   ]
  },
  {
   "cell_type": "code",
   "execution_count": 24,
   "id": "7ed8c983",
   "metadata": {},
   "outputs": [
    {
     "data": {
      "text/html": [
       "<div>\n",
       "<style scoped>\n",
       "    .dataframe tbody tr th:only-of-type {\n",
       "        vertical-align: middle;\n",
       "    }\n",
       "\n",
       "    .dataframe tbody tr th {\n",
       "        vertical-align: top;\n",
       "    }\n",
       "\n",
       "    .dataframe thead th {\n",
       "        text-align: right;\n",
       "    }\n",
       "</style>\n",
       "<table border=\"1\" class=\"dataframe\">\n",
       "  <thead>\n",
       "    <tr style=\"text-align: right;\">\n",
       "      <th></th>\n",
       "      <th>0</th>\n",
       "    </tr>\n",
       "  </thead>\n",
       "  <tbody>\n",
       "    <tr>\n",
       "      <th>cancel_lead_time</th>\n",
       "      <td>31.114944</td>\n",
       "    </tr>\n",
       "    <tr>\n",
       "      <th>Nationality_PRT</th>\n",
       "      <td>1.028622</td>\n",
       "    </tr>\n",
       "    <tr>\n",
       "      <th>previous_cancellations</th>\n",
       "      <td>0.351237</td>\n",
       "    </tr>\n",
       "    <tr>\n",
       "      <th>Nationality_Other</th>\n",
       "      <td>0.318231</td>\n",
       "    </tr>\n",
       "    <tr>\n",
       "      <th>Nationality_ESP</th>\n",
       "      <td>0.206127</td>\n",
       "    </tr>\n",
       "    <tr>\n",
       "      <th>Nationality_ITA</th>\n",
       "      <td>0.174996</td>\n",
       "    </tr>\n",
       "    <tr>\n",
       "      <th>Nationality_FRA</th>\n",
       "      <td>0.112591</td>\n",
       "    </tr>\n",
       "    <tr>\n",
       "      <th>arrival_date_month_May</th>\n",
       "      <td>0.102821</td>\n",
       "    </tr>\n",
       "    <tr>\n",
       "      <th>Nationality_GBR</th>\n",
       "      <td>0.100224</td>\n",
       "    </tr>\n",
       "    <tr>\n",
       "      <th>Nationality_USA</th>\n",
       "      <td>0.097132</td>\n",
       "    </tr>\n",
       "    <tr>\n",
       "      <th>booking_origin_Online TA</th>\n",
       "      <td>0.066938</td>\n",
       "    </tr>\n",
       "    <tr>\n",
       "      <th>arrival_date_month_February</th>\n",
       "      <td>0.059174</td>\n",
       "    </tr>\n",
       "    <tr>\n",
       "      <th>adr</th>\n",
       "      <td>0.047054</td>\n",
       "    </tr>\n",
       "    <tr>\n",
       "      <th>Day_of_week_7</th>\n",
       "      <td>0.045073</td>\n",
       "    </tr>\n",
       "    <tr>\n",
       "      <th>stays_in_days</th>\n",
       "      <td>0.044958</td>\n",
       "    </tr>\n",
       "    <tr>\n",
       "      <th>stays_in_week_nights</th>\n",
       "      <td>0.044800</td>\n",
       "    </tr>\n",
       "    <tr>\n",
       "      <th>stays_in_weekend_nights</th>\n",
       "      <td>0.029625</td>\n",
       "    </tr>\n",
       "    <tr>\n",
       "      <th>reserved_room_type_H</th>\n",
       "      <td>0.028454</td>\n",
       "    </tr>\n",
       "    <tr>\n",
       "      <th>reserved_room_type_G</th>\n",
       "      <td>0.028443</td>\n",
       "    </tr>\n",
       "    <tr>\n",
       "      <th>arrival_date_month_March</th>\n",
       "      <td>0.026888</td>\n",
       "    </tr>\n",
       "    <tr>\n",
       "      <th>arrival_date_month_October</th>\n",
       "      <td>0.020572</td>\n",
       "    </tr>\n",
       "    <tr>\n",
       "      <th>arrival_date_month_November</th>\n",
       "      <td>0.020224</td>\n",
       "    </tr>\n",
       "    <tr>\n",
       "      <th>reserved_room_type_C</th>\n",
       "      <td>0.019700</td>\n",
       "    </tr>\n",
       "    <tr>\n",
       "      <th>arrival_date_month_June</th>\n",
       "      <td>0.019120</td>\n",
       "    </tr>\n",
       "    <tr>\n",
       "      <th>reserved_room_type_D</th>\n",
       "      <td>0.001619</td>\n",
       "    </tr>\n",
       "    <tr>\n",
       "      <th>reserved_room_type_F</th>\n",
       "      <td>-0.006754</td>\n",
       "    </tr>\n",
       "    <tr>\n",
       "      <th>reserved_room_type_E</th>\n",
       "      <td>-0.014360</td>\n",
       "    </tr>\n",
       "    <tr>\n",
       "      <th>children</th>\n",
       "      <td>-0.018595</td>\n",
       "    </tr>\n",
       "    <tr>\n",
       "      <th>arrival_date_month_December</th>\n",
       "      <td>-0.021713</td>\n",
       "    </tr>\n",
       "    <tr>\n",
       "      <th>booking_origin_Groups</th>\n",
       "      <td>-0.030627</td>\n",
       "    </tr>\n",
       "    <tr>\n",
       "      <th>Day_of_week_5</th>\n",
       "      <td>-0.035626</td>\n",
       "    </tr>\n",
       "    <tr>\n",
       "      <th>arrival_date_month_August</th>\n",
       "      <td>-0.038621</td>\n",
       "    </tr>\n",
       "    <tr>\n",
       "      <th>booking_origin_Complementary</th>\n",
       "      <td>-0.043079</td>\n",
       "    </tr>\n",
       "    <tr>\n",
       "      <th>arrival_date_month_January</th>\n",
       "      <td>-0.044398</td>\n",
       "    </tr>\n",
       "    <tr>\n",
       "      <th>reserved_room_type_B</th>\n",
       "      <td>-0.045568</td>\n",
       "    </tr>\n",
       "    <tr>\n",
       "      <th>booking_origin_Direct</th>\n",
       "      <td>-0.047292</td>\n",
       "    </tr>\n",
       "    <tr>\n",
       "      <th>booking_origin_Corporate</th>\n",
       "      <td>-0.048792</td>\n",
       "    </tr>\n",
       "    <tr>\n",
       "      <th>Day_of_week_2</th>\n",
       "      <td>-0.051522</td>\n",
       "    </tr>\n",
       "    <tr>\n",
       "      <th>Day_of_week_4</th>\n",
       "      <td>-0.060283</td>\n",
       "    </tr>\n",
       "    <tr>\n",
       "      <th>Day_of_week_6</th>\n",
       "      <td>-0.068382</td>\n",
       "    </tr>\n",
       "    <tr>\n",
       "      <th>arrival_date_month_September</th>\n",
       "      <td>-0.074277</td>\n",
       "    </tr>\n",
       "    <tr>\n",
       "      <th>previous_bookings_not_canceled</th>\n",
       "      <td>-0.091372</td>\n",
       "    </tr>\n",
       "    <tr>\n",
       "      <th>booking_origin_Offline TA/TO</th>\n",
       "      <td>-0.094498</td>\n",
       "    </tr>\n",
       "    <tr>\n",
       "      <th>arrival_date_month_July</th>\n",
       "      <td>-0.095922</td>\n",
       "    </tr>\n",
       "    <tr>\n",
       "      <th>adults</th>\n",
       "      <td>-0.096251</td>\n",
       "    </tr>\n",
       "    <tr>\n",
       "      <th>Day_of_week_3</th>\n",
       "      <td>-0.108348</td>\n",
       "    </tr>\n",
       "    <tr>\n",
       "      <th>is_repeated_guest_1</th>\n",
       "      <td>-0.216662</td>\n",
       "    </tr>\n",
       "    <tr>\n",
       "      <th>reservation_lead_time</th>\n",
       "      <td>-0.243946</td>\n",
       "    </tr>\n",
       "    <tr>\n",
       "      <th>hotel_Resort Hotel</th>\n",
       "      <td>-0.344012</td>\n",
       "    </tr>\n",
       "  </tbody>\n",
       "</table>\n",
       "</div>"
      ],
      "text/plain": [
       "                                        0\n",
       "cancel_lead_time                31.114944\n",
       "Nationality_PRT                  1.028622\n",
       "previous_cancellations           0.351237\n",
       "Nationality_Other                0.318231\n",
       "Nationality_ESP                  0.206127\n",
       "Nationality_ITA                  0.174996\n",
       "Nationality_FRA                  0.112591\n",
       "arrival_date_month_May           0.102821\n",
       "Nationality_GBR                  0.100224\n",
       "Nationality_USA                  0.097132\n",
       "booking_origin_Online TA         0.066938\n",
       "arrival_date_month_February      0.059174\n",
       "adr                              0.047054\n",
       "Day_of_week_7                    0.045073\n",
       "stays_in_days                    0.044958\n",
       "stays_in_week_nights             0.044800\n",
       "stays_in_weekend_nights          0.029625\n",
       "reserved_room_type_H             0.028454\n",
       "reserved_room_type_G             0.028443\n",
       "arrival_date_month_March         0.026888\n",
       "arrival_date_month_October       0.020572\n",
       "arrival_date_month_November      0.020224\n",
       "reserved_room_type_C             0.019700\n",
       "arrival_date_month_June          0.019120\n",
       "reserved_room_type_D             0.001619\n",
       "reserved_room_type_F            -0.006754\n",
       "reserved_room_type_E            -0.014360\n",
       "children                        -0.018595\n",
       "arrival_date_month_December     -0.021713\n",
       "booking_origin_Groups           -0.030627\n",
       "Day_of_week_5                   -0.035626\n",
       "arrival_date_month_August       -0.038621\n",
       "booking_origin_Complementary    -0.043079\n",
       "arrival_date_month_January      -0.044398\n",
       "reserved_room_type_B            -0.045568\n",
       "booking_origin_Direct           -0.047292\n",
       "booking_origin_Corporate        -0.048792\n",
       "Day_of_week_2                   -0.051522\n",
       "Day_of_week_4                   -0.060283\n",
       "Day_of_week_6                   -0.068382\n",
       "arrival_date_month_September    -0.074277\n",
       "previous_bookings_not_canceled  -0.091372\n",
       "booking_origin_Offline TA/TO    -0.094498\n",
       "arrival_date_month_July         -0.095922\n",
       "adults                          -0.096251\n",
       "Day_of_week_3                   -0.108348\n",
       "is_repeated_guest_1             -0.216662\n",
       "reservation_lead_time           -0.243946\n",
       "hotel_Resort Hotel              -0.344012"
      ]
     },
     "execution_count": 24,
     "metadata": {},
     "output_type": "execute_result"
    }
   ],
   "source": [
    "# Printing the coefficients of logistic regression\n",
    "cols = X.columns\n",
    "\n",
    "coef_lg = lg.coef_\n",
    "\n",
    "pd.DataFrame(coef_lg,columns = cols).T.sort_values(by = 0, ascending = False)"
   ]
  },
  {
   "cell_type": "markdown",
   "id": "1a8dfce9",
   "metadata": {},
   "source": [
    "**Observations:**\n",
    "\n",
    "\n",
    "**Features which positively affect on the cancelation rate are:**\n",
    "- cancel_lead_time\t\n",
    "- Nationality_PRT\t\n",
    "- previous_cancellations\t\n",
    "- Nationality_Other\t\n",
    "- Nationality_ESP\t\n",
    "- Nationality_ITA\t\n",
    "- Nationality_FRA\t\n",
    "- arrival_date_month_May\t\n",
    "- Nationality_GBR\t\n",
    "\n",
    "**Features which negatively affect on the cancelation rate are:**\n",
    "\n",
    "- hotel_Resort Hotel\n",
    "- reservation_lead_time\n",
    "- is_repeated_guest_1\n",
    "- Day_of_week_3"
   ]
  },
  {
   "cell_type": "code",
   "execution_count": 25,
   "id": "463096f6",
   "metadata": {},
   "outputs": [
    {
     "data": {
      "text/html": [
       "<div>\n",
       "<style scoped>\n",
       "    .dataframe tbody tr th:only-of-type {\n",
       "        vertical-align: middle;\n",
       "    }\n",
       "\n",
       "    .dataframe tbody tr th {\n",
       "        vertical-align: top;\n",
       "    }\n",
       "\n",
       "    .dataframe thead th {\n",
       "        text-align: right;\n",
       "    }\n",
       "</style>\n",
       "<table border=\"1\" class=\"dataframe\">\n",
       "  <thead>\n",
       "    <tr style=\"text-align: right;\">\n",
       "      <th></th>\n",
       "      <th>odds</th>\n",
       "    </tr>\n",
       "  </thead>\n",
       "  <tbody>\n",
       "    <tr>\n",
       "      <th>cancel_lead_time</th>\n",
       "      <td>3.258732e+13</td>\n",
       "    </tr>\n",
       "    <tr>\n",
       "      <th>Nationality_PRT</th>\n",
       "      <td>2.797209e+00</td>\n",
       "    </tr>\n",
       "    <tr>\n",
       "      <th>previous_cancellations</th>\n",
       "      <td>1.420824e+00</td>\n",
       "    </tr>\n",
       "    <tr>\n",
       "      <th>Nationality_Other</th>\n",
       "      <td>1.374694e+00</td>\n",
       "    </tr>\n",
       "    <tr>\n",
       "      <th>Nationality_ESP</th>\n",
       "      <td>1.228910e+00</td>\n",
       "    </tr>\n",
       "    <tr>\n",
       "      <th>Nationality_ITA</th>\n",
       "      <td>1.191242e+00</td>\n",
       "    </tr>\n",
       "    <tr>\n",
       "      <th>Nationality_FRA</th>\n",
       "      <td>1.119174e+00</td>\n",
       "    </tr>\n",
       "    <tr>\n",
       "      <th>arrival_date_month_May</th>\n",
       "      <td>1.108293e+00</td>\n",
       "    </tr>\n",
       "    <tr>\n",
       "      <th>Nationality_GBR</th>\n",
       "      <td>1.105418e+00</td>\n",
       "    </tr>\n",
       "    <tr>\n",
       "      <th>Nationality_USA</th>\n",
       "      <td>1.102006e+00</td>\n",
       "    </tr>\n",
       "    <tr>\n",
       "      <th>booking_origin_Online TA</th>\n",
       "      <td>1.069229e+00</td>\n",
       "    </tr>\n",
       "    <tr>\n",
       "      <th>arrival_date_month_February</th>\n",
       "      <td>1.060960e+00</td>\n",
       "    </tr>\n",
       "    <tr>\n",
       "      <th>adr</th>\n",
       "      <td>1.048179e+00</td>\n",
       "    </tr>\n",
       "    <tr>\n",
       "      <th>Day_of_week_7</th>\n",
       "      <td>1.046105e+00</td>\n",
       "    </tr>\n",
       "    <tr>\n",
       "      <th>stays_in_days</th>\n",
       "      <td>1.045984e+00</td>\n",
       "    </tr>\n",
       "    <tr>\n",
       "      <th>stays_in_week_nights</th>\n",
       "      <td>1.045818e+00</td>\n",
       "    </tr>\n",
       "    <tr>\n",
       "      <th>stays_in_weekend_nights</th>\n",
       "      <td>1.030068e+00</td>\n",
       "    </tr>\n",
       "    <tr>\n",
       "      <th>reserved_room_type_H</th>\n",
       "      <td>1.028863e+00</td>\n",
       "    </tr>\n",
       "    <tr>\n",
       "      <th>reserved_room_type_G</th>\n",
       "      <td>1.028851e+00</td>\n",
       "    </tr>\n",
       "    <tr>\n",
       "      <th>arrival_date_month_March</th>\n",
       "      <td>1.027253e+00</td>\n",
       "    </tr>\n",
       "    <tr>\n",
       "      <th>arrival_date_month_October</th>\n",
       "      <td>1.020785e+00</td>\n",
       "    </tr>\n",
       "    <tr>\n",
       "      <th>arrival_date_month_November</th>\n",
       "      <td>1.020430e+00</td>\n",
       "    </tr>\n",
       "    <tr>\n",
       "      <th>reserved_room_type_C</th>\n",
       "      <td>1.019895e+00</td>\n",
       "    </tr>\n",
       "    <tr>\n",
       "      <th>arrival_date_month_June</th>\n",
       "      <td>1.019304e+00</td>\n",
       "    </tr>\n",
       "    <tr>\n",
       "      <th>reserved_room_type_D</th>\n",
       "      <td>1.001620e+00</td>\n",
       "    </tr>\n",
       "    <tr>\n",
       "      <th>reserved_room_type_F</th>\n",
       "      <td>9.932686e-01</td>\n",
       "    </tr>\n",
       "    <tr>\n",
       "      <th>reserved_room_type_E</th>\n",
       "      <td>9.857427e-01</td>\n",
       "    </tr>\n",
       "    <tr>\n",
       "      <th>children</th>\n",
       "      <td>9.815766e-01</td>\n",
       "    </tr>\n",
       "    <tr>\n",
       "      <th>arrival_date_month_December</th>\n",
       "      <td>9.785206e-01</td>\n",
       "    </tr>\n",
       "    <tr>\n",
       "      <th>booking_origin_Groups</th>\n",
       "      <td>9.698377e-01</td>\n",
       "    </tr>\n",
       "    <tr>\n",
       "      <th>Day_of_week_5</th>\n",
       "      <td>9.650007e-01</td>\n",
       "    </tr>\n",
       "    <tr>\n",
       "      <th>arrival_date_month_August</th>\n",
       "      <td>9.621149e-01</td>\n",
       "    </tr>\n",
       "    <tr>\n",
       "      <th>booking_origin_Complementary</th>\n",
       "      <td>9.578359e-01</td>\n",
       "    </tr>\n",
       "    <tr>\n",
       "      <th>arrival_date_month_January</th>\n",
       "      <td>9.565733e-01</td>\n",
       "    </tr>\n",
       "    <tr>\n",
       "      <th>reserved_room_type_B</th>\n",
       "      <td>9.554550e-01</td>\n",
       "    </tr>\n",
       "    <tr>\n",
       "      <th>booking_origin_Direct</th>\n",
       "      <td>9.538087e-01</td>\n",
       "    </tr>\n",
       "    <tr>\n",
       "      <th>booking_origin_Corporate</th>\n",
       "      <td>9.523791e-01</td>\n",
       "    </tr>\n",
       "    <tr>\n",
       "      <th>Day_of_week_2</th>\n",
       "      <td>9.497831e-01</td>\n",
       "    </tr>\n",
       "    <tr>\n",
       "      <th>Day_of_week_4</th>\n",
       "      <td>9.414982e-01</td>\n",
       "    </tr>\n",
       "    <tr>\n",
       "      <th>Day_of_week_6</th>\n",
       "      <td>9.339032e-01</td>\n",
       "    </tr>\n",
       "    <tr>\n",
       "      <th>arrival_date_month_September</th>\n",
       "      <td>9.284149e-01</td>\n",
       "    </tr>\n",
       "    <tr>\n",
       "      <th>previous_bookings_not_canceled</th>\n",
       "      <td>9.126785e-01</td>\n",
       "    </tr>\n",
       "    <tr>\n",
       "      <th>booking_origin_Offline TA/TO</th>\n",
       "      <td>9.098296e-01</td>\n",
       "    </tr>\n",
       "    <tr>\n",
       "      <th>arrival_date_month_July</th>\n",
       "      <td>9.085351e-01</td>\n",
       "    </tr>\n",
       "    <tr>\n",
       "      <th>adults</th>\n",
       "      <td>9.082360e-01</td>\n",
       "    </tr>\n",
       "    <tr>\n",
       "      <th>Day_of_week_3</th>\n",
       "      <td>8.973151e-01</td>\n",
       "    </tr>\n",
       "    <tr>\n",
       "      <th>is_repeated_guest_1</th>\n",
       "      <td>8.052022e-01</td>\n",
       "    </tr>\n",
       "    <tr>\n",
       "      <th>reservation_lead_time</th>\n",
       "      <td>7.835297e-01</td>\n",
       "    </tr>\n",
       "    <tr>\n",
       "      <th>hotel_Resort Hotel</th>\n",
       "      <td>7.089202e-01</td>\n",
       "    </tr>\n",
       "  </tbody>\n",
       "</table>\n",
       "</div>"
      ],
      "text/plain": [
       "                                        odds\n",
       "cancel_lead_time                3.258732e+13\n",
       "Nationality_PRT                 2.797209e+00\n",
       "previous_cancellations          1.420824e+00\n",
       "Nationality_Other               1.374694e+00\n",
       "Nationality_ESP                 1.228910e+00\n",
       "Nationality_ITA                 1.191242e+00\n",
       "Nationality_FRA                 1.119174e+00\n",
       "arrival_date_month_May          1.108293e+00\n",
       "Nationality_GBR                 1.105418e+00\n",
       "Nationality_USA                 1.102006e+00\n",
       "booking_origin_Online TA        1.069229e+00\n",
       "arrival_date_month_February     1.060960e+00\n",
       "adr                             1.048179e+00\n",
       "Day_of_week_7                   1.046105e+00\n",
       "stays_in_days                   1.045984e+00\n",
       "stays_in_week_nights            1.045818e+00\n",
       "stays_in_weekend_nights         1.030068e+00\n",
       "reserved_room_type_H            1.028863e+00\n",
       "reserved_room_type_G            1.028851e+00\n",
       "arrival_date_month_March        1.027253e+00\n",
       "arrival_date_month_October      1.020785e+00\n",
       "arrival_date_month_November     1.020430e+00\n",
       "reserved_room_type_C            1.019895e+00\n",
       "arrival_date_month_June         1.019304e+00\n",
       "reserved_room_type_D            1.001620e+00\n",
       "reserved_room_type_F            9.932686e-01\n",
       "reserved_room_type_E            9.857427e-01\n",
       "children                        9.815766e-01\n",
       "arrival_date_month_December     9.785206e-01\n",
       "booking_origin_Groups           9.698377e-01\n",
       "Day_of_week_5                   9.650007e-01\n",
       "arrival_date_month_August       9.621149e-01\n",
       "booking_origin_Complementary    9.578359e-01\n",
       "arrival_date_month_January      9.565733e-01\n",
       "reserved_room_type_B            9.554550e-01\n",
       "booking_origin_Direct           9.538087e-01\n",
       "booking_origin_Corporate        9.523791e-01\n",
       "Day_of_week_2                   9.497831e-01\n",
       "Day_of_week_4                   9.414982e-01\n",
       "Day_of_week_6                   9.339032e-01\n",
       "arrival_date_month_September    9.284149e-01\n",
       "previous_bookings_not_canceled  9.126785e-01\n",
       "booking_origin_Offline TA/TO    9.098296e-01\n",
       "arrival_date_month_July         9.085351e-01\n",
       "adults                          9.082360e-01\n",
       "Day_of_week_3                   8.973151e-01\n",
       "is_repeated_guest_1             8.052022e-01\n",
       "reservation_lead_time           7.835297e-01\n",
       "hotel_Resort Hotel              7.089202e-01"
      ]
     },
     "execution_count": 25,
     "metadata": {},
     "output_type": "execute_result"
    }
   ],
   "source": [
    "odds = np.exp(lg.coef_[0]) # Finding the odds\n",
    "\n",
    "# Adding the odds to a DataFrame and sorting the values\n",
    "pd.DataFrame(odds, x_train.columns, columns = ['odds']).sort_values(by = 'odds', ascending = False) "
   ]
  },
  {
   "cell_type": "markdown",
   "id": "0ab13140",
   "metadata": {},
   "source": [
    "**Observations:**\n",
    "\n",
    "- The odds of a Portuguese custumer to cancel a booking are **2.8 times**.\n",
    "- The odds of a cancelation came from a custumer that have canceled in the past are **1.4**."
   ]
  },
  {
   "cell_type": "markdown",
   "id": "378c43eb",
   "metadata": {},
   "source": [
    "**The Precision-Recall Curve for Logistic Regression**"
   ]
  },
  {
   "cell_type": "code",
   "execution_count": 26,
   "id": "cc7aaf28",
   "metadata": {},
   "outputs": [
    {
     "data": {
      "image/png": "[encoded data removed]",
      "text/plain": [
       "<Figure size 720x504 with 1 Axes>"
      ]
     },
     "metadata": {
      "needs_background": "light"
     },
     "output_type": "display_data"
    }
   ],
   "source": [
    "y_scores_lg = lg.predict_proba(x_train) # predict_proba gives the probability of each observation belonging to each class\n",
    "\n",
    "\n",
    "precisions_lg, recalls_lg, thresholds_lg = precision_recall_curve(y_train, y_scores_lg[:, 1])\n",
    "\n",
    "# Plot values of precisions, recalls, and thresholds\n",
    "plt.figure(figsize = (10, 7))\n",
    "\n",
    "plt.plot(thresholds_lg, precisions_lg[:-1], 'b--', label = 'precision')\n",
    "\n",
    "plt.plot(thresholds_lg, recalls_lg[:-1], 'g--', label = 'recall')\n",
    "\n",
    "plt.xlabel('Threshold')\n",
    "\n",
    "plt.legend(loc = 'upper left')\n",
    "\n",
    "plt.ylim([0, 1])\n",
    "\n",
    "plt.show()"
   ]
  },
  {
   "cell_type": "markdown",
   "id": "8d1b7bf6",
   "metadata": {},
   "source": [
    "**Observation:**\n",
    "- We can see that the precision and the recall are balanced for a threshold of about **0.19**.\n",
    "\n",
    "**Let's find out the performance of the model at this threshold.**"
   ]
  },
  {
   "cell_type": "code",
   "execution_count": 27,
   "id": "2a02c594",
   "metadata": {},
   "outputs": [
    {
     "name": "stdout",
     "output_type": "stream",
     "text": [
      "              precision    recall  f1-score   support\n",
      "\n",
      "           0       0.97      0.96      0.96     13215\n",
      "           1       0.94      0.94      0.94      7677\n",
      "\n",
      "    accuracy                           0.96     20892\n",
      "   macro avg       0.95      0.95      0.95     20892\n",
      "weighted avg       0.96      0.96      0.96     20892\n",
      "\n"
     ]
    },
    {
     "data": {
      "image/png": "[encoded data removed]",
      "text/plain": [
       "<Figure size 576x360 with 2 Axes>"
      ]
     },
     "metadata": {
      "needs_background": "light"
     },
     "output_type": "display_data"
    }
   ],
   "source": [
    "optimal_threshold1 = 0.19\n",
    "\n",
    "y_pred_train = lg.predict_proba(x_train)\n",
    "\n",
    "metrics_score(y_train, y_pred_train[:, 1] > optimal_threshold1)"
   ]
  },
  {
   "cell_type": "markdown",
   "id": "73c091a3",
   "metadata": {},
   "source": [
    "**Observations:**\n",
    "\n",
    "- **The model performance has improved. The recall has increased significantly for class 1.**\n",
    "- Let's check the performance on the test data."
   ]
  },
  {
   "cell_type": "code",
   "execution_count": 28,
   "id": "69fd3d80",
   "metadata": {},
   "outputs": [
    {
     "name": "stdout",
     "output_type": "stream",
     "text": [
      "              precision    recall  f1-score   support\n",
      "\n",
      "           0       0.96      0.96      0.96      5664\n",
      "           1       0.94      0.94      0.94      3290\n",
      "\n",
      "    accuracy                           0.95      8954\n",
      "   macro avg       0.95      0.95      0.95      8954\n",
      "weighted avg       0.95      0.95      0.95      8954\n",
      "\n"
     ]
    },
    {
     "data": {
      "image/png": "[encoded data removed]",
      "text/plain": [
       "<Figure size 576x360 with 2 Axes>"
      ]
     },
     "metadata": {
      "needs_background": "light"
     },
     "output_type": "display_data"
    }
   ],
   "source": [
    "optimal_threshold1 = 0.19\n",
    "\n",
    "y_pred_test = lg.predict_proba(x_test)\n",
    "\n",
    "metrics_score(y_test, y_pred_test[:, 1] > optimal_threshold1)"
   ]
  },
  {
   "cell_type": "markdown",
   "id": "de4b7ac1",
   "metadata": {},
   "source": [
    "**Observations:**\n",
    "\n",
    "\n",
    "- The average recall and precision for the model are good but let's see if we can get even better performance using other algorithms. \n",
    "- The model have a **similar performance on the test and the train dataset**. Then, the model has generalized well.\n",
    "- The model have a decent average recall. A recall of ~0.95 suggests that there is a 5% (1 - 0.95) chance that the model will predict that a customer is going to cancel even though he/she would not, and the hotel would waste time on these reservation who are not at risk of cancelation.}\n",
    "- This seems like a high-performing model that the hotel can use to control the cancelation rate. There is about an **94% chance** that the model will detect custumers who are likely to cancel their reservation, and the company can take the appropriate action."
   ]
  },
  {
   "cell_type": "markdown",
   "id": "452f25e6",
   "metadata": {},
   "source": [
    "### **K-Nearest Neighbors (K-NN)**"
   ]
  },
  {
   "cell_type": "markdown",
   "id": "d4f691bd",
   "metadata": {},
   "source": [
    "- Select K\n",
    "- Calculate distance (Euclidean, Manhattan, etc.)\n",
    "- Find the K closest neighbors\n",
    "- Take majority vote for labels\n",
    "\n",
    "**before building the model, identify the value of K to be used in K-NN.  performimg the following steps for the same.**\n",
    "\n",
    "- For every value of K (from 1 to 15), split the training set into a new train and validation sets (30 times)\n",
    "- Scale the training data and the validation data\n",
    "- Take the average of the error on these training and the validation sets for each value of K\n",
    "- Plot the average train vs validation error for all Ks \n",
    "- Choose the optimal K from the plot where the two errors are comparable"
   ]
  },
  {
   "cell_type": "code",
   "execution_count": 29,
   "id": "3eb30025",
   "metadata": {},
   "outputs": [
    {
     "data": {
      "text/plain": [
       "{1: [0.0006023255350126451, 0.2118529153705033],\n",
       " 2: [0.10906479985639919, 0.19868389566882028],\n",
       " 3: [0.108641975308642, 0.20993858179787825],\n",
       " 4: [0.1411595763776701, 0.20465821169338752],\n",
       " 5: [0.1397634575879056, 0.21188482093004707],\n",
       " 6: [0.15724286483575659, 0.20885379277339078],\n",
       " 7: [0.15597239673707092, 0.21020180266411417],\n",
       " 8: [0.16838987614431886, 0.20921273031825796],\n",
       " 9: [0.16576517281956166, 0.2107282443965861],\n",
       " 10: [0.17664492710265461, 0.20909308446996883],\n",
       " 11: [0.17295319013143462, 0.2119247028794768],\n",
       " 12: [0.18244081453559108, 0.20922868309802983],\n",
       " 13: [0.17905223478729132, 0.21126266251894393],\n",
       " 14: [0.18700412852270684, 0.21273829464784239]}"
      ]
     },
     "execution_count": 29,
     "metadata": {},
     "output_type": "execute_result"
    }
   ],
   "source": [
    "knn = KNeighborsClassifier()\n",
    "\n",
    "# We select the optimal value of K for which the error rate is the least in the validation data\n",
    "# Let us loop over a few values of K to determine the optimal value of K\n",
    "\n",
    "train_error = []\n",
    "\n",
    "test_error = []\n",
    "\n",
    "knn_many_split = {}\n",
    "\n",
    "error_df_knn = pd.DataFrame()\n",
    "\n",
    "features = X.columns\n",
    "\n",
    "for k in range(1, 15):\n",
    "    train_error = []\n",
    "    \n",
    "    test_error = []\n",
    "    \n",
    "    lista = []\n",
    "    \n",
    "    knn = KNeighborsClassifier(n_neighbors = k)\n",
    "    \n",
    "    for i in range(30):\n",
    "        x_train_new, x_val, y_train_new, y_val = train_test_split(x_train, y_train, test_size = 0.20)\n",
    "    \n",
    "        # Fitting K-NN on the training data\n",
    "        knn.fit(x_train_new, y_train_new)\n",
    "        \n",
    "        # Calculating error on the training data and the validation data\n",
    "        train_error.append(1 - knn.score(x_train_new, y_train_new)) \n",
    "        \n",
    "        test_error.append(1 - knn.score(x_val, y_val))\n",
    "    \n",
    "    lista.append(sum(train_error)/len(train_error))\n",
    "    \n",
    "    lista.append(sum(test_error)/len(test_error))\n",
    "    \n",
    "    knn_many_split[k] = lista\n",
    "\n",
    "knn_many_split"
   ]
  },
  {
   "cell_type": "code",
   "execution_count": 30,
   "id": "d88fe704",
   "metadata": {},
   "outputs": [
    {
     "data": {
      "image/png": "[encoded data removed]",
      "text/plain": [
       "<Figure size 720x432 with 1 Axes>"
      ]
     },
     "metadata": {
      "needs_background": "light"
     },
     "output_type": "display_data"
    }
   ],
   "source": [
    "kltest = []\n",
    "\n",
    "vltest = []\n",
    "\n",
    "for k, v in knn_many_split.items():\n",
    "    kltest.append(k)\n",
    "    \n",
    "    vltest.append(knn_many_split[k][1])\n",
    "\n",
    "kltrain = []\n",
    "\n",
    "vltrain = []\n",
    "\n",
    "for k, v in knn_many_split.items():\n",
    "    kltrain.append(k)\n",
    "    \n",
    "    vltrain.append(knn_many_split[k][0])\n",
    "\n",
    "# Plotting K vs Error\n",
    "plt.figure(figsize = (10, 6))\n",
    "\n",
    "plt.plot(kltest, vltest, label = 'test' )\n",
    "\n",
    "plt.plot(kltrain, vltrain, label = 'train')\n",
    "\n",
    "plt.legend()\n",
    "\n",
    "plt.show()"
   ]
  },
  {
   "cell_type": "markdown",
   "id": "77354186",
   "metadata": {},
   "source": [
    "**Observations:**\n",
    "\n",
    "- We can see that the test error (error on the validation data) is more or less similar for K greater than or equal to 3. But the training error keeps increasing with increasing K.\n",
    "- This implies that we would get a lower train and test error if we choose K = 3. Also, if we choose a higher value of K, the model would get biased due to the imbalance in the dataset.\n",
    "- So, let's fit the K-NN model with **K=3** on the entire training set."
   ]
  },
  {
   "cell_type": "code",
   "execution_count": 31,
   "id": "3b913a72",
   "metadata": {},
   "outputs": [],
   "source": [
    "# Define K-NN model\n",
    "\n",
    "knn = KNeighborsClassifier(n_neighbors = 3)"
   ]
  },
  {
   "cell_type": "code",
   "execution_count": 32,
   "id": "24e4d248",
   "metadata": {},
   "outputs": [
    {
     "data": {
      "text/plain": [
       "KNeighborsClassifier(n_neighbors=3)"
      ]
     },
     "execution_count": 32,
     "metadata": {},
     "output_type": "execute_result"
    }
   ],
   "source": [
    "# Fitting data to the K-NN model\n",
    "\n",
    "knn.fit(x_train,y_train)"
   ]
  },
  {
   "cell_type": "code",
   "execution_count": 33,
   "id": "c24b36a9",
   "metadata": {},
   "outputs": [
    {
     "name": "stdout",
     "output_type": "stream",
     "text": [
      "              precision    recall  f1-score   support\n",
      "\n",
      "           0       0.90      0.94      0.92     13215\n",
      "           1       0.89      0.81      0.85      7677\n",
      "\n",
      "    accuracy                           0.89     20892\n",
      "   macro avg       0.89      0.88      0.88     20892\n",
      "weighted avg       0.89      0.89      0.89     20892\n",
      "\n"
     ]
    },
    {
     "data": {
      "image/png": "[encoded data removed]",
      "text/plain": [
       "<Figure size 576x360 with 2 Axes>"
      ]
     },
     "metadata": {
      "needs_background": "light"
     },
     "output_type": "display_data"
    }
   ],
   "source": [
    "# Checking the performance of K-NN model on the training data\n",
    "y_pred_train_knn = knn.predict(x_train)\n",
    "\n",
    "metrics_score(y_train, y_pred_train_knn)"
   ]
  },
  {
   "cell_type": "code",
   "execution_count": 34,
   "id": "40eb1d9c",
   "metadata": {},
   "outputs": [
    {
     "name": "stdout",
     "output_type": "stream",
     "text": [
      "              precision    recall  f1-score   support\n",
      "\n",
      "           0       0.82      0.87      0.85      5664\n",
      "           1       0.75      0.67      0.71      3290\n",
      "\n",
      "    accuracy                           0.80      8954\n",
      "   macro avg       0.79      0.77      0.78      8954\n",
      "weighted avg       0.80      0.80      0.80      8954\n",
      "\n"
     ]
    },
    {
     "data": {
      "image/png": "[encoded data removed]",
      "text/plain": [
       "<Figure size 576x360 with 2 Axes>"
      ]
     },
     "metadata": {
      "needs_background": "light"
     },
     "output_type": "display_data"
    }
   ],
   "source": [
    "# Checking the performance of K-NN model on the testing data\n",
    "y_pred_test_knn = knn.predict(x_test)\n",
    "\n",
    "metrics_score(y_test, y_pred_test_knn)"
   ]
  },
  {
   "cell_type": "markdown",
   "id": "9fa11e95",
   "metadata": {},
   "source": [
    "**Observation:**\n",
    "- The model have a better performance on the train than on the test data but the **recall for class 1 is not very good**. Let's see if we can improve on that.\n",
    "\n",
    "- This appears to be a high-performing model that the hotel can use to cotrol the cancelation rate. There is about an **83% chance** that the model will detect custumers who are likely to cancel a reservation, and the hotel can take action."
   ]
  },
  {
   "cell_type": "markdown",
   "id": "e94f4241",
   "metadata": {},
   "source": [
    "### **Using GridSearchCV for Hyperparameter tuning of the model**"
   ]
  },
  {
   "cell_type": "markdown",
   "id": "416e6b2b",
   "metadata": {},
   "source": [
    "- **n_neighbors**\n",
    "\n",
    "    - Number of neighbors.\n",
    "\n",
    "\n",
    "- **weights={'uniform', 'distance'}**\n",
    "\n",
    "    - uniform : uniform weights.\n",
    "    - distance : weight points by the inverse of their distance.\n",
    "\n",
    "\n",
    "- **p**\n",
    "    - When p = 1, Manhattan_distance (L1), and Euclidean_distance (L2) is  p = 2."
   ]
  },
  {
   "cell_type": "code",
   "execution_count": 35,
   "id": "204fc7ca",
   "metadata": {},
   "outputs": [
    {
     "name": "stdout",
     "output_type": "stream",
     "text": [
      "KNeighborsClassifier(n_neighbors=3, p=1, weights='distance')\n"
     ]
    }
   ],
   "source": [
    "params_knn = {'n_neighbors': np.arange(3, 15), 'weights': ['uniform', 'distance'], 'p': [1, 2]}\n",
    "\n",
    "grid_knn = GridSearchCV(estimator = knn, param_grid = params_knn, scoring = 'recall', cv = 10)\n",
    "\n",
    "model_knn = grid_knn.fit(x_train,y_train)\n",
    "\n",
    "knn_estimator = model_knn.best_estimator_\n",
    "\n",
    "print(knn_estimator)"
   ]
  },
  {
   "cell_type": "code",
   "execution_count": 36,
   "id": "3a2c82d1",
   "metadata": {},
   "outputs": [
    {
     "data": {
      "text/plain": [
       "KNeighborsClassifier(n_neighbors=3, p=1, weights='distance')"
      ]
     },
     "execution_count": 36,
     "metadata": {},
     "output_type": "execute_result"
    }
   ],
   "source": [
    "# Fit the best estimator on the training data\n",
    "knn_estimator.fit(x_train, y_train)"
   ]
  },
  {
   "cell_type": "code",
   "execution_count": 37,
   "id": "786e5c50",
   "metadata": {},
   "outputs": [
    {
     "name": "stdout",
     "output_type": "stream",
     "text": [
      "              precision    recall  f1-score   support\n",
      "\n",
      "           0       1.00      1.00      1.00     13215\n",
      "           1       1.00      1.00      1.00      7677\n",
      "\n",
      "    accuracy                           1.00     20892\n",
      "   macro avg       1.00      1.00      1.00     20892\n",
      "weighted avg       1.00      1.00      1.00     20892\n",
      "\n"
     ]
    },
    {
     "data": {
      "image/png": "[encoded data removed]",
      "text/plain": [
       "<Figure size 576x360 with 2 Axes>"
      ]
     },
     "metadata": {
      "needs_background": "light"
     },
     "output_type": "display_data"
    }
   ],
   "source": [
    "y_pred_train_knn_estimator = knn_estimator.predict(x_train)\n",
    "\n",
    "metrics_score(y_train, y_pred_train_knn_estimator)"
   ]
  },
  {
   "cell_type": "code",
   "execution_count": 38,
   "id": "743adc98",
   "metadata": {},
   "outputs": [
    {
     "name": "stdout",
     "output_type": "stream",
     "text": [
      "              precision    recall  f1-score   support\n",
      "\n",
      "           0       0.83      0.90      0.87      5664\n",
      "           1       0.80      0.69      0.74      3290\n",
      "\n",
      "    accuracy                           0.82      8954\n",
      "   macro avg       0.82      0.80      0.80      8954\n",
      "weighted avg       0.82      0.82      0.82      8954\n",
      "\n"
     ]
    },
    {
     "data": {
      "image/png": "[encoded data removed]",
      "text/plain": [
       "<Figure size 576x360 with 2 Axes>"
      ]
     },
     "metadata": {
      "needs_background": "light"
     },
     "output_type": "display_data"
    }
   ],
   "source": [
    "y_pred_test_knn_estimator = knn_estimator.predict(x_test)\n",
    "\n",
    "metrics_score(y_test, y_pred_test_knn_estimator)"
   ]
  },
  {
   "cell_type": "markdown",
   "id": "ff604893",
   "metadata": {},
   "source": [
    "**Observations:**\n",
    "\n",
    "\n",
    "- The model seems to be overfitting and **Test recall and precision have increased very little** by tuning the K-NN classifier.\n",
    "\n",
    "- This model seems to be overfitting."
   ]
  },
  {
   "cell_type": "markdown",
   "id": "0c6eac05",
   "metadata": {},
   "source": [
    "### **Linear Discriminant Analysis**"
   ]
  },
  {
   "cell_type": "markdown",
   "id": "afa3980e",
   "metadata": {},
   "source": [
    "- Maximizing the distance between the means of two classes.\n",
    "- Minimizing the variation between each category."
   ]
  },
  {
   "cell_type": "code",
   "execution_count": 39,
   "id": "62a7fdae",
   "metadata": {},
   "outputs": [
    {
     "data": {
      "text/plain": [
       "LinearDiscriminantAnalysis()"
      ]
     },
     "execution_count": 39,
     "metadata": {},
     "output_type": "execute_result"
    }
   ],
   "source": [
    "# Fitting the LDA model\n",
    "lda = LinearDiscriminantAnalysis()\n",
    "\n",
    "lda.fit(x_train, y_train)"
   ]
  },
  {
   "cell_type": "markdown",
   "id": "13f58bb9",
   "metadata": {},
   "source": [
    "**Checking the performance of the model**"
   ]
  },
  {
   "cell_type": "code",
   "execution_count": 41,
   "id": "054fc03e",
   "metadata": {},
   "outputs": [
    {
     "name": "stdout",
     "output_type": "stream",
     "text": [
      "              precision    recall  f1-score   support\n",
      "\n",
      "           0       0.81      0.97      0.88     13215\n",
      "           1       0.93      0.61      0.73      7677\n",
      "\n",
      "    accuracy                           0.84     20892\n",
      "   macro avg       0.87      0.79      0.81     20892\n",
      "weighted avg       0.85      0.84      0.83     20892\n",
      "\n"
     ]
    },
    {
     "data": {
      "image/png": "[encoded data removed]",
      "text/plain": [
       "<Figure size 576x360 with 2 Axes>"
      ]
     },
     "metadata": {
      "needs_background": "light"
     },
     "output_type": "display_data"
    }
   ],
   "source": [
    "# Checking model performance of LDA\n",
    "y_pred_train_lda = lda.predict(x_train)\n",
    "\n",
    "metrics_score(y_train, y_pred_train_lda)"
   ]
  },
  {
   "cell_type": "markdown",
   "id": "7a7563cd",
   "metadata": {},
   "source": [
    "**Observations:**\n",
    "\n",
    "- The model is performing well in terms of accuracy.\n",
    "- The recall for class 1 is low, this implies that this model will not perform well in differentiating the customers who have a high chance of canceling their reservation. "
   ]
  },
  {
   "cell_type": "markdown",
   "id": "a1d77d57",
   "metadata": {},
   "source": [
    "We have built the LDA model. **Let's check the coefficients.**"
   ]
  },
  {
   "cell_type": "code",
   "execution_count": 49,
   "id": "c9c3c111",
   "metadata": {},
   "outputs": [
    {
     "data": {
      "text/html": [
       "<div>\n",
       "<style scoped>\n",
       "    .dataframe tbody tr th:only-of-type {\n",
       "        vertical-align: middle;\n",
       "    }\n",
       "\n",
       "    .dataframe tbody tr th {\n",
       "        vertical-align: top;\n",
       "    }\n",
       "\n",
       "    .dataframe thead th {\n",
       "        text-align: right;\n",
       "    }\n",
       "</style>\n",
       "<table border=\"1\" class=\"dataframe\">\n",
       "  <thead>\n",
       "    <tr style=\"text-align: right;\">\n",
       "      <th></th>\n",
       "      <th>0</th>\n",
       "    </tr>\n",
       "  </thead>\n",
       "  <tbody>\n",
       "    <tr>\n",
       "      <th>cancel_lead_time</th>\n",
       "      <td>1.991860</td>\n",
       "    </tr>\n",
       "    <tr>\n",
       "      <th>Nationality_PRT</th>\n",
       "      <td>1.209276</td>\n",
       "    </tr>\n",
       "    <tr>\n",
       "      <th>booking_origin_Online TA</th>\n",
       "      <td>0.671172</td>\n",
       "    </tr>\n",
       "    <tr>\n",
       "      <th>booking_origin_Groups</th>\n",
       "      <td>0.460638</td>\n",
       "    </tr>\n",
       "    <tr>\n",
       "      <th>booking_origin_Offline TA/TO</th>\n",
       "      <td>0.284936</td>\n",
       "    </tr>\n",
       "    <tr>\n",
       "      <th>adr</th>\n",
       "      <td>0.259916</td>\n",
       "    </tr>\n",
       "    <tr>\n",
       "      <th>Nationality_Other</th>\n",
       "      <td>0.241924</td>\n",
       "    </tr>\n",
       "    <tr>\n",
       "      <th>Nationality_ESP</th>\n",
       "      <td>0.199334</td>\n",
       "    </tr>\n",
       "    <tr>\n",
       "      <th>Nationality_ITA</th>\n",
       "      <td>0.175519</td>\n",
       "    </tr>\n",
       "    <tr>\n",
       "      <th>previous_cancellations</th>\n",
       "      <td>0.174723</td>\n",
       "    </tr>\n",
       "    <tr>\n",
       "      <th>Nationality_GBR</th>\n",
       "      <td>0.141490</td>\n",
       "    </tr>\n",
       "    <tr>\n",
       "      <th>stays_in_week_nights</th>\n",
       "      <td>0.116152</td>\n",
       "    </tr>\n",
       "    <tr>\n",
       "      <th>stays_in_days</th>\n",
       "      <td>0.114601</td>\n",
       "    </tr>\n",
       "    <tr>\n",
       "      <th>Day_of_week_7</th>\n",
       "      <td>0.106635</td>\n",
       "    </tr>\n",
       "    <tr>\n",
       "      <th>Day_of_week_6</th>\n",
       "      <td>0.081495</td>\n",
       "    </tr>\n",
       "    <tr>\n",
       "      <th>stays_in_weekend_nights</th>\n",
       "      <td>0.071233</td>\n",
       "    </tr>\n",
       "    <tr>\n",
       "      <th>Nationality_USA</th>\n",
       "      <td>0.062632</td>\n",
       "    </tr>\n",
       "    <tr>\n",
       "      <th>booking_origin_Corporate</th>\n",
       "      <td>0.050738</td>\n",
       "    </tr>\n",
       "    <tr>\n",
       "      <th>Nationality_FRA</th>\n",
       "      <td>0.041495</td>\n",
       "    </tr>\n",
       "    <tr>\n",
       "      <th>children</th>\n",
       "      <td>0.030952</td>\n",
       "    </tr>\n",
       "    <tr>\n",
       "      <th>reserved_room_type_C</th>\n",
       "      <td>0.030342</td>\n",
       "    </tr>\n",
       "    <tr>\n",
       "      <th>adults</th>\n",
       "      <td>0.020523</td>\n",
       "    </tr>\n",
       "    <tr>\n",
       "      <th>Day_of_week_4</th>\n",
       "      <td>0.014008</td>\n",
       "    </tr>\n",
       "    <tr>\n",
       "      <th>reserved_room_type_D</th>\n",
       "      <td>0.009498</td>\n",
       "    </tr>\n",
       "    <tr>\n",
       "      <th>arrival_date_month_May</th>\n",
       "      <td>0.006364</td>\n",
       "    </tr>\n",
       "    <tr>\n",
       "      <th>booking_origin_Direct</th>\n",
       "      <td>0.003406</td>\n",
       "    </tr>\n",
       "    <tr>\n",
       "      <th>reserved_room_type_B</th>\n",
       "      <td>-0.010110</td>\n",
       "    </tr>\n",
       "    <tr>\n",
       "      <th>reserved_room_type_H</th>\n",
       "      <td>-0.012146</td>\n",
       "    </tr>\n",
       "    <tr>\n",
       "      <th>reserved_room_type_E</th>\n",
       "      <td>-0.014842</td>\n",
       "    </tr>\n",
       "    <tr>\n",
       "      <th>reserved_room_type_G</th>\n",
       "      <td>-0.022505</td>\n",
       "    </tr>\n",
       "    <tr>\n",
       "      <th>Day_of_week_2</th>\n",
       "      <td>-0.023477</td>\n",
       "    </tr>\n",
       "    <tr>\n",
       "      <th>Day_of_week_3</th>\n",
       "      <td>-0.024945</td>\n",
       "    </tr>\n",
       "    <tr>\n",
       "      <th>booking_origin_Complementary</th>\n",
       "      <td>-0.029832</td>\n",
       "    </tr>\n",
       "    <tr>\n",
       "      <th>arrival_date_month_October</th>\n",
       "      <td>-0.030453</td>\n",
       "    </tr>\n",
       "    <tr>\n",
       "      <th>arrival_date_month_June</th>\n",
       "      <td>-0.038560</td>\n",
       "    </tr>\n",
       "    <tr>\n",
       "      <th>arrival_date_month_December</th>\n",
       "      <td>-0.039771</td>\n",
       "    </tr>\n",
       "    <tr>\n",
       "      <th>arrival_date_month_February</th>\n",
       "      <td>-0.045085</td>\n",
       "    </tr>\n",
       "    <tr>\n",
       "      <th>arrival_date_month_January</th>\n",
       "      <td>-0.046858</td>\n",
       "    </tr>\n",
       "    <tr>\n",
       "      <th>reserved_room_type_F</th>\n",
       "      <td>-0.059027</td>\n",
       "    </tr>\n",
       "    <tr>\n",
       "      <th>previous_bookings_not_canceled</th>\n",
       "      <td>-0.061558</td>\n",
       "    </tr>\n",
       "    <tr>\n",
       "      <th>arrival_date_month_November</th>\n",
       "      <td>-0.065253</td>\n",
       "    </tr>\n",
       "    <tr>\n",
       "      <th>arrival_date_month_March</th>\n",
       "      <td>-0.071458</td>\n",
       "    </tr>\n",
       "    <tr>\n",
       "      <th>arrival_date_month_September</th>\n",
       "      <td>-0.126102</td>\n",
       "    </tr>\n",
       "    <tr>\n",
       "      <th>Day_of_week_5</th>\n",
       "      <td>-0.129641</td>\n",
       "    </tr>\n",
       "    <tr>\n",
       "      <th>arrival_date_month_August</th>\n",
       "      <td>-0.143236</td>\n",
       "    </tr>\n",
       "    <tr>\n",
       "      <th>arrival_date_month_July</th>\n",
       "      <td>-0.154948</td>\n",
       "    </tr>\n",
       "    <tr>\n",
       "      <th>is_repeated_guest_1</th>\n",
       "      <td>-0.241864</td>\n",
       "    </tr>\n",
       "    <tr>\n",
       "      <th>reservation_lead_time</th>\n",
       "      <td>-0.270012</td>\n",
       "    </tr>\n",
       "    <tr>\n",
       "      <th>hotel_Resort Hotel</th>\n",
       "      <td>-0.341845</td>\n",
       "    </tr>\n",
       "  </tbody>\n",
       "</table>\n",
       "</div>"
      ],
      "text/plain": [
       "                                       0\n",
       "cancel_lead_time                1.991860\n",
       "Nationality_PRT                 1.209276\n",
       "booking_origin_Online TA        0.671172\n",
       "booking_origin_Groups           0.460638\n",
       "booking_origin_Offline TA/TO    0.284936\n",
       "adr                             0.259916\n",
       "Nationality_Other               0.241924\n",
       "Nationality_ESP                 0.199334\n",
       "Nationality_ITA                 0.175519\n",
       "previous_cancellations          0.174723\n",
       "Nationality_GBR                 0.141490\n",
       "stays_in_week_nights            0.116152\n",
       "stays_in_days                   0.114601\n",
       "Day_of_week_7                   0.106635\n",
       "Day_of_week_6                   0.081495\n",
       "stays_in_weekend_nights         0.071233\n",
       "Nationality_USA                 0.062632\n",
       "booking_origin_Corporate        0.050738\n",
       "Nationality_FRA                 0.041495\n",
       "children                        0.030952\n",
       "reserved_room_type_C            0.030342\n",
       "adults                          0.020523\n",
       "Day_of_week_4                   0.014008\n",
       "reserved_room_type_D            0.009498\n",
       "arrival_date_month_May          0.006364\n",
       "booking_origin_Direct           0.003406\n",
       "reserved_room_type_B           -0.010110\n",
       "reserved_room_type_H           -0.012146\n",
       "reserved_room_type_E           -0.014842\n",
       "reserved_room_type_G           -0.022505\n",
       "Day_of_week_2                  -0.023477\n",
       "Day_of_week_3                  -0.024945\n",
       "booking_origin_Complementary   -0.029832\n",
       "arrival_date_month_October     -0.030453\n",
       "arrival_date_month_June        -0.038560\n",
       "arrival_date_month_December    -0.039771\n",
       "arrival_date_month_February    -0.045085\n",
       "arrival_date_month_January     -0.046858\n",
       "reserved_room_type_F           -0.059027\n",
       "previous_bookings_not_canceled -0.061558\n",
       "arrival_date_month_November    -0.065253\n",
       "arrival_date_month_March       -0.071458\n",
       "arrival_date_month_September   -0.126102\n",
       "Day_of_week_5                  -0.129641\n",
       "arrival_date_month_August      -0.143236\n",
       "arrival_date_month_July        -0.154948\n",
       "is_repeated_guest_1            -0.241864\n",
       "reservation_lead_time          -0.270012\n",
       "hotel_Resort Hotel             -0.341845"
      ]
     },
     "execution_count": 49,
     "metadata": {},
     "output_type": "execute_result"
    }
   ],
   "source": [
    "# Creating the list of column names\n",
    "cols = X.columns\n",
    "\n",
    "# Saving coefficients of LDA model\n",
    "coef_lda = lda.coef_\n",
    "\n",
    "# Printing the cofficients of LDA\n",
    "pd.DataFrame(coef_lda, columns = cols).T.sort_values(by = 0, ascending = False)"
   ]
  },
  {
   "cell_type": "markdown",
   "id": "f0317b01",
   "metadata": {},
   "source": [
    "**Some features which positively affect the cancelation rate are:**\n",
    "- cancel_lead_time\t\n",
    "- Nationality_PRT\t\n",
    "- booking_origin_Online TA\t\n",
    "- booking_origin_Groups\t\n",
    "- booking_origin_Offline TA/TO\t\n",
    "- adr\t\n",
    "\n",
    "**Some features which negatively affect the cancelation rate are:**\n",
    "- arrival_date_month_August\t\n",
    "- arrival_date_month_July\t\n",
    "- is_repeated_guest_1\t\n",
    "- reservation_lead_time\t\n",
    "- hotel_Resort Hotel"
   ]
  },
  {
   "cell_type": "markdown",
   "id": "9aa43151",
   "metadata": {},
   "source": [
    "### **Precision-Recall Curve for LDA**"
   ]
  },
  {
   "cell_type": "code",
   "execution_count": 43,
   "id": "deb7b2c6",
   "metadata": {},
   "outputs": [
    {
     "data": {
      "image/png": "[encoded data removed]",
      "text/plain": [
       "<Figure size 720x504 with 1 Axes>"
      ]
     },
     "metadata": {
      "needs_background": "light"
     },
     "output_type": "display_data"
    }
   ],
   "source": [
    "y_scores_lda = lda.predict_proba(x_train) # predict_proba gives the probability of each observation belonging to each class\n",
    "\n",
    "precisions_lda, recalls_lda, thresholds_lda = precision_recall_curve(y_train, y_scores_lda[:, 1])\n",
    "\n",
    "# Plot values of precisions, recalls, and thresholds\n",
    "plt.figure(figsize = (10, 7))\n",
    "\n",
    "plt.plot(thresholds_lda, precisions_lda[:-1], 'b--', label = 'precision')\n",
    "\n",
    "plt.plot(thresholds_lda, recalls_lda[:-1], 'g--', label = 'recall')\n",
    "\n",
    "plt.xlabel('Threshold')\n",
    "\n",
    "plt.legend(loc = 'upper left')\n",
    "\n",
    "plt.ylim([0, 1])\n",
    "\n",
    "plt.show()"
   ]
  },
  {
   "cell_type": "markdown",
   "id": "839c81b3",
   "metadata": {},
   "source": [
    "**Observation:**\n",
    "\n",
    "- The recall are balanced for a threshold of about ~0.28."
   ]
  },
  {
   "cell_type": "markdown",
   "id": "0e32a2bc",
   "metadata": {},
   "source": [
    "**Let's check the model performance at this threshold**"
   ]
  },
  {
   "cell_type": "code",
   "execution_count": 44,
   "id": "6d9dc92f",
   "metadata": {},
   "outputs": [
    {
     "name": "stdout",
     "output_type": "stream",
     "text": [
      "              precision    recall  f1-score   support\n",
      "\n",
      "           0       0.88      0.87      0.88     13215\n",
      "           1       0.79      0.80      0.79      7677\n",
      "\n",
      "    accuracy                           0.85     20892\n",
      "   macro avg       0.83      0.84      0.83     20892\n",
      "weighted avg       0.85      0.85      0.85     20892\n",
      "\n"
     ]
    },
    {
     "data": {
      "image/png": "[encoded data removed]",
      "text/plain": [
       "<Figure size 576x360 with 2 Axes>"
      ]
     },
     "metadata": {
      "needs_background": "light"
     },
     "output_type": "display_data"
    }
   ],
   "source": [
    "optimal_threshold1 = 0.28\n",
    "\n",
    "y_pred_train_lda = lda.predict_proba(x_train)\n",
    "\n",
    "metrics_score(y_train, y_pred_train_lda[:,1] > optimal_threshold1)"
   ]
  },
  {
   "cell_type": "markdown",
   "id": "754d848f",
   "metadata": {},
   "source": [
    "**Observations:**\n",
    "\n",
    "- The precision has increased and **the recall (class and metric of interest) for class 1 has increased to 0.80**.\n",
    "- **The model is able to identify the majority of reservations that are at risk of cancelation,** and would hence be a more useful model than the previous iteration with the default threshold.\n",
    "\n",
    "Let's check the model performance on the test data"
   ]
  },
  {
   "cell_type": "code",
   "execution_count": 50,
   "id": "29d4095d",
   "metadata": {},
   "outputs": [
    {
     "name": "stdout",
     "output_type": "stream",
     "text": [
      "              precision    recall  f1-score   support\n",
      "\n",
      "           0       0.88      0.88      0.88      5664\n",
      "           1       0.79      0.79      0.79      3290\n",
      "\n",
      "    accuracy                           0.85      8954\n",
      "   macro avg       0.83      0.83      0.83      8954\n",
      "weighted avg       0.85      0.85      0.85      8954\n",
      "\n"
     ]
    },
    {
     "data": {
      "image/png": "[encoded data removed]",
      "text/plain": [
       "<Figure size 576x360 with 2 Axes>"
      ]
     },
     "metadata": {
      "needs_background": "light"
     },
     "output_type": "display_data"
    }
   ],
   "source": [
    "# Checking performance on the test data\n",
    "optimal_threshold1 = 0.28\n",
    "\n",
    "y_pred_test_lda = lda.predict_proba(x_test)\n",
    "\n",
    "metrics_score(y_test, y_pred_test_lda[:,1] > optimal_threshold1)"
   ]
  },
  {
   "cell_type": "markdown",
   "id": "fc130aa9",
   "metadata": {},
   "source": [
    "**Observations:**\n",
    "\n",
    "- **The average recall and the precision for the model are good**, let's see if we can get a better performance using other algorithms. \n",
    "- The model have a **similar performance on the test and the train dataset**. Then, the model has generalized well."
   ]
  },
  {
   "cell_type": "markdown",
   "id": "b9ad3621",
   "metadata": {},
   "source": [
    "### **Quadratic Discriminant Analysis**"
   ]
  },
  {
   "cell_type": "code",
   "execution_count": 46,
   "id": "a77d028d",
   "metadata": {},
   "outputs": [
    {
     "data": {
      "text/plain": [
       "QuadraticDiscriminantAnalysis()"
      ]
     },
     "execution_count": 46,
     "metadata": {},
     "output_type": "execute_result"
    }
   ],
   "source": [
    "# Fitting QDA model\n",
    "qda = QuadraticDiscriminantAnalysis()\n",
    "\n",
    "qda.fit(x_train, y_train)"
   ]
  },
  {
   "cell_type": "code",
   "execution_count": 47,
   "id": "8eaf4cd2",
   "metadata": {},
   "outputs": [
    {
     "name": "stdout",
     "output_type": "stream",
     "text": [
      "              precision    recall  f1-score   support\n",
      "\n",
      "           0       0.97      1.00      0.99     13215\n",
      "           1       1.00      0.95      0.97      7677\n",
      "\n",
      "    accuracy                           0.98     20892\n",
      "   macro avg       0.98      0.98      0.98     20892\n",
      "weighted avg       0.98      0.98      0.98     20892\n",
      "\n"
     ]
    },
    {
     "data": {
      "image/png": "[encoded data removed]",
      "text/plain": [
       "<Figure size 576x360 with 2 Axes>"
      ]
     },
     "metadata": {
      "needs_background": "light"
     },
     "output_type": "display_data"
    }
   ],
   "source": [
    "# Checking model performance on the training data\n",
    "y_pred_train_qda = qda.predict(x_train)\n",
    "\n",
    "metrics_score(y_train, y_pred_train_qda)"
   ]
  },
  {
   "cell_type": "code",
   "execution_count": 48,
   "id": "fb450f94",
   "metadata": {},
   "outputs": [
    {
     "name": "stdout",
     "output_type": "stream",
     "text": [
      "              precision    recall  f1-score   support\n",
      "\n",
      "           0       0.97      1.00      0.98      5664\n",
      "           1       1.00      0.95      0.97      3290\n",
      "\n",
      "    accuracy                           0.98      8954\n",
      "   macro avg       0.98      0.97      0.98      8954\n",
      "weighted avg       0.98      0.98      0.98      8954\n",
      "\n"
     ]
    },
    {
     "data": {
      "image/png": "[encoded data removed]",
      "text/plain": [
       "<Figure size 576x360 with 2 Axes>"
      ]
     },
     "metadata": {
      "needs_background": "light"
     },
     "output_type": "display_data"
    }
   ],
   "source": [
    "# Checking performance of the model on the test data\n",
    "y_pred_test_qda = qda.predict(x_test)\n",
    "\n",
    "metrics_score(y_test, y_pred_test_qda)"
   ]
  },
  {
   "cell_type": "markdown",
   "id": "99ba4da0",
   "metadata": {},
   "source": [
    "**Observations:**\n",
    "\n",
    "- The model have a **similar performance on the test and the train dataset**. Then, the model has generalized well.\n",
    "- The model have a decent average recall. A recall of ~0.97 suggests that there is a 3% (1 - 0.97) chance that the model will predict that a customer is going to cancel even though he/she would not, and the hotel would waste time on these reservation who are not at risk of cancelation.\n",
    "- This seems like a high-performing model that the hotel can use to control the cancelation rate. There is about an **95% chance** that the model will detect custumers who are likely to cancel their reservation, and the company can take the appropriate action."
   ]
  },
  {
   "cell_type": "code",
   "execution_count": 56,
   "id": "f2b19875",
   "metadata": {},
   "outputs": [
    {
     "name": "stdout",
     "output_type": "stream",
     "text": [
      "[0.63253877 0.36746123]\n",
      "[[-2.20293219e-01 -1.95555617e-02 -2.27283793e-03 -2.50210613e-02\n",
      "  -4.44542433e-02 -1.10362043e-02 -8.01311660e-02  4.45582500e-02\n",
      "  -4.31395735e-02 -4.55527545e-01  9.94734783e-02 -1.61187799e-02\n",
      "  -1.62094088e-03  3.20727037e-02  2.55472240e-02  3.29718244e-03\n",
      "  -2.70111933e-02  2.55789339e-02 -2.80643096e-02  1.66397548e-02\n",
      "  -5.97791873e-04  2.41934676e-03  2.14380603e-02  2.88082476e-02\n",
      "   3.55575305e-04 -2.15203647e-02 -2.74373788e-02 -2.13943214e-02\n",
      "   4.58498215e-02  8.95663573e-02  8.12258953e-02  2.20806204e-03\n",
      "   9.14340915e-02 -2.53290495e-01  2.51224789e-02  3.31162309e-02\n",
      "   5.28546054e-02  1.14334666e-01 -1.63643746e-01  2.29756580e-02\n",
      "   5.54001020e-03  6.96147408e-02  6.95488164e-03 -1.31473778e-03\n",
      "   2.67157684e-02  3.25118649e-02  2.01218039e-02  4.20004680e-03\n",
      "  -5.01946183e-03]\n",
      " [ 3.76831536e-01  3.05031258e-02  5.30454964e-03  3.81108582e-02\n",
      "   7.66928160e-02  6.48074303e-03  1.45518809e-01 -7.48522541e-02\n",
      "   6.70950005e-02  7.80561887e-01 -1.77371593e-01 -4.85535560e-03\n",
      "  -7.58780737e-03 -4.44063253e-02 -2.38523329e-02  5.60356970e-05\n",
      "   4.68180485e-02 -3.92541557e-02  3.92328714e-02 -2.81804683e-02\n",
      "   3.89296307e-03  1.61967440e-02 -3.44637472e-02 -4.65230105e-02\n",
      "  -8.82050319e-03  4.90489195e-02  2.90326938e-02  4.05574234e-02\n",
      "  -9.10422932e-02 -1.46791543e-01 -1.47426957e-01 -1.12043368e-02\n",
      "  -1.48083977e-01  4.40618186e-01 -5.95615925e-02 -6.25430098e-02\n",
      "  -1.05107621e-01 -1.99261485e-01  2.84216612e-01 -4.46735521e-02\n",
      "   2.36366598e-03 -1.19460140e-01 -6.74604231e-03  3.91469825e-03\n",
      "  -4.40989539e-02 -6.74997972e-02 -3.46330271e-02 -1.01852227e-02\n",
      "   3.29073612e-03]]\n"
     ]
    }
   ],
   "source": [
    "print(qda.priors_)\n",
    "print(qda.means_)"
   ]
  },
  {
   "cell_type": "markdown",
   "id": "56472213",
   "metadata": {},
   "source": [
    "### **Conclusions:**\n",
    "\n",
    "- We have tried multiple models and were **able to identify some important factors involved with booking cancelations**.\n",
    "- The final model, **a Logistic Regression classifier**, **gives the highest recall on the training and the testing datasets.** It may be possible to further try and tune the model, and the Hotel can use this model to predict whether a reservation is at risk of cancelation or not."
   ]
  }
 ],
 "metadata": {
  "kernelspec": {
   "display_name": "Python 3 (ipykernel)",
   "language": "python",
   "name": "python3"
  },
  "language_info": {
   "codemirror_mode": {
    "name": "ipython",
    "version": 3
   },
   "file_extension": ".py",
   "mimetype": "text/x-python",
   "name": "python",
   "nbconvert_exporter": "python",
   "pygments_lexer": "ipython3",
   "version": "3.9.7"
  }
 },
 "nbformat": 4,
 "nbformat_minor": 5
}
